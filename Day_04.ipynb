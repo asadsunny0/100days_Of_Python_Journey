{
 "cells": [
  {
   "cell_type": "markdown",
   "id": "d3b13883-1419-471e-abaf-b93238a69379",
   "metadata": {},
   "source": [
    "# Function"
   ]
  },
  {
   "cell_type": "markdown",
   "id": "8f1bf8d9-6c95-47e2-993d-c790af207f95",
   "metadata": {},
   "source": [
    "## Define a Function"
   ]
  },
  {
   "cell_type": "code",
   "execution_count": 5,
   "id": "93110f8e-4848-4340-a014-0ad661e02ffe",
   "metadata": {},
   "outputs": [
    {
     "name": "stdin",
     "output_type": "stream",
     "text": [
      "What is your name?  Sunny\n"
     ]
    },
    {
     "name": "stdout",
     "output_type": "stream",
     "text": [
      "Hello Sunny!\n"
     ]
    }
   ],
   "source": [
    "def greet_user(user): # user is a parameter\n",
    "    print(\"Hello \" + user + \"!\")\n",
    "\n",
    "name = input(\"What is your name? \")\n",
    "greet_user(name) # name is a argument"
   ]
  },
  {
   "cell_type": "markdown",
   "id": "5b8073c6-0976-421e-b648-36b92bd630b8",
   "metadata": {},
   "source": [
    "## Types\n",
    "1. Positional Arguments\n",
    "2. Keyword Arguments\n",
    "3. Arbitrary Arguments"
   ]
  },
  {
   "cell_type": "code",
   "execution_count": 8,
   "id": "e1401847-4a3c-4ea2-b1bc-80ce0a5b141d",
   "metadata": {},
   "outputs": [
    {
     "name": "stdout",
     "output_type": "stream",
     "text": [
      "\n",
      "I love apple.\n",
      "apple's color is red.\n"
     ]
    }
   ],
   "source": [
    "# Positional Arguments\n",
    "def fruit(type , color):\n",
    "    print(\"\\nI love \" + type + \".\")\n",
    "    print(type + \"'s color is \" + color + \".\")\n",
    "fruit('apple', 'red')"
   ]
  },
  {
   "cell_type": "code",
   "execution_count": 11,
   "id": "028abfa4-7e79-4a5f-903b-6cdef1ae9bcd",
   "metadata": {},
   "outputs": [
    {
     "name": "stdout",
     "output_type": "stream",
     "text": [
      "\n",
      "I love apple.\n",
      "apple's color is red.\n"
     ]
    }
   ],
   "source": [
    "# Keyword Arguments\n",
    "def fruit(type , color):\n",
    "    print(\"\\nI love \" + type + \".\")\n",
    "    print(type + \"'s color is \" + color + \".\")\n",
    "fruit(type = 'apple', color = 'red')"
   ]
  },
  {
   "cell_type": "markdown",
   "id": "6ff8b7af-375f-41c2-9ba2-086b5b8d28ec",
   "metadata": {},
   "source": [
    "## Default Values"
   ]
  },
  {
   "cell_type": "code",
   "execution_count": 17,
   "id": "68146849-ed6a-47fe-a0d2-3a0ec591a6d4",
   "metadata": {},
   "outputs": [
    {
     "name": "stdout",
     "output_type": "stream",
     "text": [
      "\n",
      "I love apple.\n",
      "apple's color is yellow.\n"
     ]
    }
   ],
   "source": [
    "def fruit(type , color = 'yellow'):\n",
    "    print(\"\\nI love \" + type + \".\")\n",
    "    print(type + \"'s color is \" + color + \".\")\n",
    "fruit('apple')"
   ]
  },
  {
   "cell_type": "code",
   "execution_count": 25,
   "id": "0feb8e26-7409-4c4e-841f-09dd1bd8f5ac",
   "metadata": {},
   "outputs": [
    {
     "name": "stdout",
     "output_type": "stream",
     "text": [
      "Asad Sunny\n"
     ]
    }
   ],
   "source": [
    "## Returning Value\n",
    "def get_full_name(f,l):\n",
    "    full_name = f + \" \" + l\n",
    "    return full_name\n",
    "stranger = get_full_name('asad', 'sunny')\n",
    "print(stranger.title())"
   ]
  },
  {
   "cell_type": "code",
   "execution_count": 32,
   "id": "0e8cc0aa-4477-42fe-aa25-a3023501eea8",
   "metadata": {},
   "outputs": [
    {
     "name": "stdout",
     "output_type": "stream",
     "text": [
      "{'First': 'asad', 'Last': 'sunny', 'age': 23}\n"
     ]
    }
   ],
   "source": [
    "def build_person(first, last, age = ''):\n",
    "    name = {'First' : first, 'Last' : last}\n",
    "    if age:\n",
    "        name['age'] = age\n",
    "    return name\n",
    "d = build_person('asad', 'sunny', 23)\n",
    "print(d)\n"
   ]
  },
  {
   "cell_type": "markdown",
   "id": "724e5bab-b14a-4661-a188-53a1c5b6b413",
   "metadata": {},
   "source": [
    "## Returning a dictionary"
   ]
  },
  {
   "cell_type": "code",
   "execution_count": 30,
   "id": "e0b5f5e8-646a-4a1b-9878-4525f5bb2240",
   "metadata": {},
   "outputs": [
    {
     "name": "stdout",
     "output_type": "stream",
     "text": [
      "{'first': 'asad', 'Last': 'sunny'}\n"
     ]
    }
   ],
   "source": [
    "def person_name(first, last):\n",
    "    name = {'first' : first, 'Last' : last}\n",
    "    return name\n",
    "d = person_name('asad', 'sunny')\n",
    "print(d)"
   ]
  },
  {
   "cell_type": "code",
   "execution_count": 40,
   "id": "5d14e3a7-9313-433a-98a8-ece540aeebfe",
   "metadata": {},
   "outputs": [
    {
     "name": "stdout",
     "output_type": "stream",
     "text": [
      "Please tell me your name: \n"
     ]
    },
    {
     "name": "stdin",
     "output_type": "stream",
     "text": [
      "First name : Asad\n",
      "Last name :  sunny\n"
     ]
    },
    {
     "name": "stdout",
     "output_type": "stream",
     "text": [
      "Hello Asad sunny!\n"
     ]
    },
    {
     "name": "stdin",
     "output_type": "stream",
     "text": [
      "stop the program (yes/no) no\n"
     ]
    },
    {
     "name": "stdout",
     "output_type": "stream",
     "text": [
      "Please tell me your name: \n"
     ]
    },
    {
     "name": "stdin",
     "output_type": "stream",
     "text": [
      "First name : ashaduzzaman\n",
      "Last name :  sunny\n"
     ]
    },
    {
     "name": "stdout",
     "output_type": "stream",
     "text": [
      "Hello ashaduzzaman sunny!\n"
     ]
    },
    {
     "name": "stdin",
     "output_type": "stream",
     "text": [
      "stop the program (yes/no) yes\n"
     ]
    }
   ],
   "source": [
    "def person_name(first, last):\n",
    "    name = first + \" \" + last\n",
    "    return name\n",
    "\n",
    "active = True\n",
    "while active :\n",
    "    print(\"Please tell me your name: \")\n",
    "    f_name = input('First name :')\n",
    "    l_name = input('Last name : ')\n",
    "\n",
    "    d = person_name(f_name, l_name)\n",
    "    print(\"Hello \" + d + \"!\")\n",
    "    s = input(\"stop the program (yes/no)\")\n",
    "    if s == 'yes':\n",
    "        break\n",
    "    else :\n",
    "        continue\n",
    "        \n",
    "    "
   ]
  },
  {
   "cell_type": "markdown",
   "id": "b90fc0fd-45e6-46f8-b039-4256dc512b1d",
   "metadata": {},
   "source": [
    "## Passing a List as a Arguments"
   ]
  },
  {
   "cell_type": "code",
   "execution_count": 44,
   "id": "8303a345-b1b4-4fe8-9432-6fb147a4b1ff",
   "metadata": {},
   "outputs": [
    {
     "name": "stdout",
     "output_type": "stream",
     "text": [
      "Hello Sunny!\n",
      "Hello Siam!\n",
      "Hello Sami!\n"
     ]
    }
   ],
   "source": [
    "def get_names(users):\n",
    "    for i in users:\n",
    "        txt = \"Hello \" + i + \"!\"\n",
    "        print(txt)\n",
    "names = [\"Sunny\", 'Siam', 'Sami']\n",
    "get_names(names)"
   ]
  },
  {
   "cell_type": "markdown",
   "id": "e31160de-9e2f-4683-8937-d3a7d5735a12",
   "metadata": {},
   "source": [
    "## Modufying a List in a Function"
   ]
  },
  {
   "cell_type": "code",
   "execution_count": 49,
   "id": "fb8f6fab-b457-4c85-94f1-156e3c1de127",
   "metadata": {},
   "outputs": [
    {
     "name": "stdout",
     "output_type": "stream",
     "text": [
      "['Nokia', 'Oppo', 'Iphone']\n"
     ]
    }
   ],
   "source": [
    "def repairing_phone(uncompleted, completed):\n",
    "    while uncompleted:\n",
    "        c = uncompleted.pop()\n",
    "        completed.append(c)\n",
    "    return completed\n",
    "uncompleted = ['Iphone', 'Oppo', 'Nokia']\n",
    "completed = []\n",
    "repairing_phone(uncompleted, completed)\n",
    "print(completed) "
   ]
  },
  {
   "cell_type": "code",
   "execution_count": 64,
   "id": "f0a60732-9ebd-4075-8c35-88d294b4b1ec",
   "metadata": {},
   "outputs": [
    {
     "name": "stdout",
     "output_type": "stream",
     "text": [
      "The Orginal List : \n",
      "['Iphone', 'Oppo', 'Nokia']\n",
      "\n",
      "Repaired List : \n",
      "['Nokia', 'Oppo', 'Iphone']\n"
     ]
    }
   ],
   "source": [
    "# Now uncompleted list is empty , to solve this issue we can try this \n",
    "def repairing_phone(uncompleted, completed): # parameter uncompleted is a copy\n",
    "    while uncompleted:\n",
    "        c = uncompleted.pop()\n",
    "        completed.append(c)\n",
    "    return completed\n",
    "uncompleted = ['Iphone', 'Oppo', 'Nokia']\n",
    "completed = []\n",
    "repairing_phone(uncompleted[:], completed)\n",
    "print(\"The Orginal List : \")\n",
    "print(uncompleted)\n",
    "print(\"\\nRepaired List : \")\n",
    "print(completed)"
   ]
  },
  {
   "cell_type": "markdown",
   "id": "8f6b751a-0fc2-49e8-939d-5c8f01e4b39c",
   "metadata": {},
   "source": [
    "## Passing an Arbitrary Number of Arguments\n",
    "- Sometimes you won’t know ahead of time **how many arguments** a function\r\n",
    "needs to accept. Fortunately, Python allows a function to collect an arbitrary\r\n",
    "number of arguments from the calling statement"
   ]
  },
  {
   "cell_type": "code",
   "execution_count": 73,
   "id": "bf8221a7-71b3-4521-a196-493857accd3b",
   "metadata": {},
   "outputs": [
    {
     "name": "stdout",
     "output_type": "stream",
     "text": [
      "('sunny',)\n",
      "('shihab', 'siam', 'sami')\n"
     ]
    }
   ],
   "source": [
    "def names (*n):\n",
    "    print(n)\n",
    "names('sunny')\n",
    "names('shihab','siam','sami')"
   ]
  },
  {
   "cell_type": "code",
   "execution_count": 81,
   "id": "0012e232-c057-4682-b7c6-9c4baba19e5d",
   "metadata": {},
   "outputs": [
    {
     "name": "stdout",
     "output_type": "stream",
     "text": [
      "\n",
      "Making a pizza with the following toppings:\n",
      "- Pepperoni\n",
      "\n",
      "Making a pizza with the following toppings:\n",
      "- Mushrooms\n",
      "- Green Peppers\n",
      "- Extra Cheese\n"
     ]
    }
   ],
   "source": [
    "def making_pizza(*toppings):\n",
    "    print(\"\\nMaking a pizza with the following toppings:\")\n",
    "    for i in toppings:\n",
    "        print(\"- \" + i.title())\n",
    "making_pizza('pepperoni')\n",
    "making_pizza('mushrooms', 'green peppers', 'extra cheese')"
   ]
  },
  {
   "cell_type": "markdown",
   "id": "386df2b1-2648-4a1d-8f12-66fca520a8a4",
   "metadata": {},
   "source": [
    "## Mixing Positional and Arbitrary Arguments"
   ]
  },
  {
   "cell_type": "code",
   "execution_count": 90,
   "id": "502728cc-58ca-4637-9752-10e564cbfda0",
   "metadata": {},
   "outputs": [
    {
     "name": "stdout",
     "output_type": "stream",
     "text": [
      "\n",
      "Making a 9 inch pizza with the following toppings:\n",
      "- Pepperoni\n",
      "\n",
      "Making a 14 inch pizza with the following toppings:\n",
      "- Mushrooms\n",
      "- Green Peppers\n",
      "- Extra Cheese\n"
     ]
    }
   ],
   "source": [
    "def making_pizza(size, *toppings):\n",
    "    print(\"\\nMaking a \" + str(size) + \" inch pizza with the following toppings:\")\n",
    "    for i in toppings:\n",
    "        print(\"- \" + i.title())\n",
    "making_pizza(9, 'pepperoni')\n",
    "making_pizza(14, 'mushrooms', 'green peppers', 'extra cheese')"
   ]
  },
  {
   "cell_type": "markdown",
   "id": "27d72fa3-b643-4af3-971f-0ffc73fa8947",
   "metadata": {},
   "source": [
    "## Using Arbitrary Keyword Arguments\n",
    "- Sometimes you’ll want to accept an arbitrary number of arguments, but **you\r\n",
    "won’t know ahead of time what kind of information will be passe**d to the\r\n",
    "function. In this case, you can write functions that accept as many key-value\r\n",
    "pairs as the calling statement provides."
   ]
  },
  {
   "cell_type": "code",
   "execution_count": 100,
   "id": "c17655dc-91e0-42c4-92ab-44fb54dd7136",
   "metadata": {},
   "outputs": [
    {
     "name": "stdout",
     "output_type": "stream",
     "text": [
      "{'first_name': 'Asad', 'last_name': 'Sunny', 'location': 'Bangladesh', 'Major': 'CS'}\n"
     ]
    }
   ],
   "source": [
    "def build_profile(first, last, **userInfo):\n",
    "    profile = {}\n",
    "    profile['first_name'] = first\n",
    "    profile['last_name'] = last\n",
    "    \n",
    "    for key, value in userInfo.items():\n",
    "        profile[key] = value\n",
    "    return profile\n",
    "\n",
    "user_profile = build_profile('Asad', 'Sunny', location='Bangladesh', Major='CS')\n",
    "print(user_profile)\n"
   ]
  },
  {
   "cell_type": "code",
   "execution_count": null,
   "id": "a5c82185-0c50-4fd4-bfc8-9ba42e2fba7c",
   "metadata": {},
   "outputs": [],
   "source": []
  }
 ],
 "metadata": {
  "kernelspec": {
   "display_name": "Python 3 (ipykernel)",
   "language": "python",
   "name": "python3"
  },
  "language_info": {
   "codemirror_mode": {
    "name": "ipython",
    "version": 3
   },
   "file_extension": ".py",
   "mimetype": "text/x-python",
   "name": "python",
   "nbconvert_exporter": "python",
   "pygments_lexer": "ipython3",
   "version": "3.12.4"
  }
 },
 "nbformat": 4,
 "nbformat_minor": 5
}
