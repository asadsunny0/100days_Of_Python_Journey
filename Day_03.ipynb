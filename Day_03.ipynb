{
 "cells": [
  {
   "cell_type": "markdown",
   "id": "140c6e94-03e1-426b-a309-6640eb4ba0b2",
   "metadata": {},
   "source": [
    "# Input Function\n",
    "- Note -> in python 2.7 we used raw_input() which takes all input as a string"
   ]
  },
  {
   "cell_type": "code",
   "execution_count": 2,
   "id": "94ebf2db-6c0e-489a-86a3-9d91df5aceee",
   "metadata": {},
   "outputs": [
    {
     "name": "stdin",
     "output_type": "stream",
     "text": [
      "Tell me something, and i will repeat it back to you :  hey ! How are you\n"
     ]
    },
    {
     "name": "stdout",
     "output_type": "stream",
     "text": [
      "hey ! How are you\n"
     ]
    }
   ],
   "source": [
    "message = input(\"Tell me something, and i will repeat it back to you : \")\n",
    "print(message)"
   ]
  },
  {
   "cell_type": "code",
   "execution_count": 4,
   "id": "d1e9a73b-d511-4e90-af59-2a872b7445f3",
   "metadata": {},
   "outputs": [
    {
     "name": "stdin",
     "output_type": "stream",
     "text": [
      "If you tell us who you are, we can personalize the messages you see.\n",
      "What is your first name ?  Sunny\n"
     ]
    },
    {
     "name": "stdout",
     "output_type": "stream",
     "text": [
      "Hello Sunny!\n"
     ]
    }
   ],
   "source": [
    "#or \n",
    "prompt = \"If you tell us who you are, we can personalize the messages you see.\"\n",
    "prompt += \"\\nWhat is your first name ? \"\n",
    "\n",
    "name = input(prompt)\n",
    "print(\"Hello \" + name + \"!\")"
   ]
  },
  {
   "cell_type": "markdown",
   "id": "79dfa99b-1f1f-4225-a2d8-e05cc73b143d",
   "metadata": {},
   "source": [
    "# While Loop in Action"
   ]
  },
  {
   "cell_type": "code",
   "execution_count": 10,
   "id": "2e56130f-f7db-4e60-863b-f8604827a4fe",
   "metadata": {},
   "outputs": [
    {
     "name": "stdout",
     "output_type": "stream",
     "text": [
      "1\n",
      "2\n",
      "3\n",
      "4\n",
      "5\n"
     ]
    }
   ],
   "source": [
    "current_num = 1\n",
    "while current_num <= 5:\n",
    "    print(current_num)\n",
    "    current_num += 1"
   ]
  },
  {
   "cell_type": "code",
   "execution_count": 14,
   "id": "072be3eb-d09e-462c-85b8-44e032bac3ba",
   "metadata": {},
   "outputs": [
    {
     "name": "stdin",
     "output_type": "stream",
     "text": [
      "\n",
      "Tell me something , and i will repeat it back to you :\n",
      "Enter '0' to end the program.  my name is sunny\n"
     ]
    },
    {
     "name": "stdout",
     "output_type": "stream",
     "text": [
      "my name is sunny\n"
     ]
    },
    {
     "name": "stdin",
     "output_type": "stream",
     "text": [
      "\n",
      "Tell me something , and i will repeat it back to you :\n",
      "Enter '0' to end the program.  i'm 23 years old\n"
     ]
    },
    {
     "name": "stdout",
     "output_type": "stream",
     "text": [
      "i'm 23 years old\n"
     ]
    },
    {
     "name": "stdin",
     "output_type": "stream",
     "text": [
      "\n",
      "Tell me something , and i will repeat it back to you :\n",
      "Enter '0' to end the program.  0\n"
     ]
    },
    {
     "name": "stdout",
     "output_type": "stream",
     "text": [
      "0\n"
     ]
    }
   ],
   "source": [
    "prompt = \"\\nTell me something , and i will repeat it back to you :\"\n",
    "prompt += \"\\nEnter '0' to end the program. \"\n",
    "message = \"\"\n",
    "while message != '0':\n",
    "    message = input(prompt)\n",
    "    print(message)"
   ]
  },
  {
   "cell_type": "markdown",
   "id": "efea032f-e891-4b58-bf52-63f80d9ed4de",
   "metadata": {},
   "source": [
    "# Using a Flag"
   ]
  },
  {
   "cell_type": "code",
   "execution_count": 19,
   "id": "02e60475-fc84-4302-baee-2456f5f2f36d",
   "metadata": {},
   "outputs": [
    {
     "name": "stdin",
     "output_type": "stream",
     "text": [
      "\n",
      "Tell me something , and i will repeat it back to you :\n",
      "Enter '0' to end the program.  My name is Sunny\n"
     ]
    },
    {
     "name": "stdout",
     "output_type": "stream",
     "text": [
      "My name is Sunny\n"
     ]
    },
    {
     "name": "stdin",
     "output_type": "stream",
     "text": [
      "\n",
      "Tell me something , and i will repeat it back to you :\n",
      "Enter '0' to end the program.  0\n"
     ]
    }
   ],
   "source": [
    "#or \n",
    "active = True\n",
    "while active:\n",
    "   message = input(prompt)\n",
    "\n",
    "   if message == '0' :\n",
    "       active = False\n",
    "   else :\n",
    "       print(message)\n"
   ]
  },
  {
   "cell_type": "markdown",
   "id": "af7eef44-d411-40f3-8c98-f7e8be4f6c79",
   "metadata": {},
   "source": [
    "# Using break to Exit a Loop"
   ]
  },
  {
   "cell_type": "code",
   "execution_count": 28,
   "id": "1f44ff3a-610f-49e7-8991-6868695b07c9",
   "metadata": {},
   "outputs": [
    {
     "name": "stdin",
     "output_type": "stream",
     "text": [
      "Please enter the city name you have visited: \n",
      "Enter '0' to end the program.  dhaka\n"
     ]
    },
    {
     "name": "stdout",
     "output_type": "stream",
     "text": [
      "I'd love to go to Dhaka!\n"
     ]
    },
    {
     "name": "stdin",
     "output_type": "stream",
     "text": [
      "Please enter the city name you have visited: \n",
      "Enter '0' to end the program.  mumbai\n"
     ]
    },
    {
     "name": "stdout",
     "output_type": "stream",
     "text": [
      "I'd love to go to Mumbai!\n"
     ]
    },
    {
     "name": "stdin",
     "output_type": "stream",
     "text": [
      "Please enter the city name you have visited: \n",
      "Enter '0' to end the program.  dubai\n"
     ]
    },
    {
     "name": "stdout",
     "output_type": "stream",
     "text": [
      "I'd love to go to Dubai!\n"
     ]
    },
    {
     "name": "stdin",
     "output_type": "stream",
     "text": [
      "Please enter the city name you have visited: \n",
      "Enter '0' to end the program.  0\n"
     ]
    }
   ],
   "source": [
    "travel = \"Please enter the city name you have visited: \"\n",
    "travel += \"\\nEnter '0' to end the program. \"\n",
    "while True:\n",
    "     city = input(travel)\n",
    "     if city == '0':\n",
    "         break\n",
    "     else :\n",
    "         print(\"I'd love to go to \" + city.title() + \"!\")\n"
   ]
  },
  {
   "cell_type": "markdown",
   "id": "689997ce-e5cb-4b08-809f-32954ec91d7a",
   "metadata": {},
   "source": [
    "# Using Continue in a Loop\n"
   ]
  },
  {
   "cell_type": "code",
   "execution_count": 46,
   "id": "bdc52911-b0ec-4742-8652-0aed5d577706",
   "metadata": {},
   "outputs": [
    {
     "name": "stdout",
     "output_type": "stream",
     "text": [
      "1\n",
      "3\n",
      "5\n",
      "7\n",
      "9\n"
     ]
    }
   ],
   "source": [
    "current_num = 0\n",
    "while current_num < 10:\n",
    "    current_num += 1\n",
    "    if current_num % 2 == 0:\n",
    "        continue\n",
    "    print(current_num)"
   ]
  },
  {
   "cell_type": "markdown",
   "id": "c8fc934d-bb4f-4ee0-8d21-5c8bf95b8bdc",
   "metadata": {},
   "source": [
    "# Using a While Loop with Lists and Dictionaries\n"
   ]
  },
  {
   "cell_type": "code",
   "execution_count": 44,
   "id": "3f119ac6-2455-4ae0-865b-cad1f616dbb9",
   "metadata": {},
   "outputs": [
    {
     "name": "stdout",
     "output_type": "stream",
     "text": [
      "Verifying user : Saami\n",
      "Verifying user : Siam\n",
      "Verifying user : Sunny\n",
      "\n",
      "The following users have been confirmed: \n",
      "Saami\n",
      "Siam\n",
      "Sunny\n"
     ]
    }
   ],
   "source": [
    "users = [\"sunny\", \"siam\", 'saami']\n",
    "c_users = []\n",
    "\n",
    "while users :\n",
    "    current_users = users.pop()\n",
    "    print(\"Verifying user : \" + current_users.title())\n",
    "\n",
    "    c_users.append(current_users)\n",
    "print(\"\\nThe following users have been confirmed: \")\n",
    "for i in c_users:\n",
    "    print(i.title())"
   ]
  },
  {
   "cell_type": "markdown",
   "id": "21518b3d-b68c-4e66-ad45-6058c77a4a36",
   "metadata": {},
   "source": [
    "# Removing All Instances of Specific Values from a list"
   ]
  },
  {
   "cell_type": "code",
   "execution_count": 49,
   "id": "1410428a-8be1-41f0-9908-7fef10f8e317",
   "metadata": {},
   "outputs": [
    {
     "name": "stdout",
     "output_type": "stream",
     "text": [
      "['dog', 'cat', 'dog', 'goldfish', 'cat', 'rabbit', 'cat']\n",
      "['dog', 'dog', 'goldfish', 'rabbit']\n"
     ]
    }
   ],
   "source": [
    "pets = ['dog', 'cat', 'dog', 'goldfish', 'cat', 'rabbit', 'cat']\n",
    "print(pets)\n",
    "\n",
    "while 'cat' in pets:\n",
    "    pets.remove('cat')\n",
    "print(pets)"
   ]
  },
  {
   "cell_type": "markdown",
   "id": "3b3204d6-7100-48e7-90a5-447f14387902",
   "metadata": {},
   "source": [
    "# Filling a Dictionary with user Input"
   ]
  },
  {
   "cell_type": "code",
   "execution_count": 63,
   "id": "e86a7bea-6f96-4c73-8aff-10978f9a6d9b",
   "metadata": {},
   "outputs": [
    {
     "name": "stdin",
     "output_type": "stream",
     "text": [
      "\n",
      "What is your name?  Sunny\n",
      "what is your favourite color ?  Blue\n",
      "Would you like to let another person respond? (yes/no)  no\n"
     ]
    },
    {
     "name": "stdout",
     "output_type": "stream",
     "text": [
      "\n",
      "---poll Results---\n",
      "Sunny's favourite color is Blue.\n"
     ]
    }
   ],
   "source": [
    "responses = {}\n",
    "active = True\n",
    "while active :\n",
    "    name = input(\"\\nWhat is your name? \")\n",
    "    response = input(\"what is your favourite color ? \")\n",
    "    responses[name] = response\n",
    "    repeat = input(\"Would you like to let another person respond? (yes/no) \")\n",
    "    \n",
    "    if repeat == 'no':\n",
    "        active = False\n",
    "print(\"\\n---poll Results---\")\n",
    "for name, response in responses.items():\n",
    "    print(name + \"'s favourite color is \" + response + \".\")"
   ]
  },
  {
   "cell_type": "code",
   "execution_count": null,
   "id": "01738476-dd5c-4742-9940-c6e7bb3d34a0",
   "metadata": {},
   "outputs": [],
   "source": []
  },
  {
   "cell_type": "code",
   "execution_count": null,
   "id": "9c5b2145-3a0d-4452-a039-c98083f4d385",
   "metadata": {},
   "outputs": [],
   "source": []
  }
 ],
 "metadata": {
  "kernelspec": {
   "display_name": "Python 3 (ipykernel)",
   "language": "python",
   "name": "python3"
  },
  "language_info": {
   "codemirror_mode": {
    "name": "ipython",
    "version": 3
   },
   "file_extension": ".py",
   "mimetype": "text/x-python",
   "name": "python",
   "nbconvert_exporter": "python",
   "pygments_lexer": "ipython3",
   "version": "3.12.4"
  }
 },
 "nbformat": 4,
 "nbformat_minor": 5
}
