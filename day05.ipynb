{
 "cells": [
  {
   "cell_type": "markdown",
   "id": "9eef39f4-0866-41b8-9c28-e08c232f3647",
   "metadata": {},
   "source": [
    "I'M BACK\n"
   ]
  },
  {
   "cell_type": "code",
   "execution_count": 1,
   "id": "d5cd2874-0dde-4ed2-a8d6-2f662563fc45",
   "metadata": {},
   "outputs": [
    {
     "name": "stdout",
     "output_type": "stream",
     "text": [
      "green\n",
      "5\n"
     ]
    }
   ],
   "source": [
    "alien_0 = {'color' : 'green', 'points' : 5}\n",
    "print(alien_0['color'])\n",
    "print(alien_0['points'])"
   ]
  },
  {
   "cell_type": "code",
   "execution_count": 3,
   "id": "ecc33359-b472-494d-8942-9a98630ffdcc",
   "metadata": {},
   "outputs": [
    {
     "name": "stdout",
     "output_type": "stream",
     "text": [
      "You just earned 5 points.\n"
     ]
    }
   ],
   "source": [
    "print(\"You just earned \" + str(alien_0['points']) + \" points.\")"
   ]
  },
  {
   "cell_type": "code",
   "execution_count": 5,
   "id": "2eee63d0-e60f-401b-b740-6a94f68026f3",
   "metadata": {},
   "outputs": [
    {
     "name": "stdout",
     "output_type": "stream",
     "text": [
      "{'color': 'green', 'points': 5, 'x_position': 0, 'y_position': 25}\n"
     ]
    }
   ],
   "source": [
    "alien_0['x_position'] = 0\n",
    "alien_0['y_position'] = 25\n",
    "print(alien_0)"
   ]
  },
  {
   "cell_type": "code",
   "execution_count": 17,
   "id": "ec2807b8-5cc3-4a2a-8bb9-f8012be20df0",
   "metadata": {},
   "outputs": [
    {
     "name": "stdout",
     "output_type": "stream",
     "text": [
      "New x-postion : 3\n"
     ]
    }
   ],
   "source": [
    "alien_0 = {'x_pos' : 0, 'y_pos' : 25, 'speed' : 'medium'}\n",
    "if alien_0['speed'] == 'slow':\n",
    "    x_inc = 1\n",
    "elif alien_0['speed'] == 'fast':\n",
    "    x_inc = 2\n",
    "else :\n",
    "    x_inc = 3\n",
    "\n",
    "alien_0['x_pos'] = alien_0['x_pos'] + x_inc\n",
    "print(\"New x-postion : \" + str(alien_0['x_pos']))\n",
    "\n"
   ]
  },
  {
   "cell_type": "code",
   "execution_count": 21,
   "id": "52074e76-a161-46ed-a864-13db2f8439ad",
   "metadata": {},
   "outputs": [
    {
     "name": "stdout",
     "output_type": "stream",
     "text": [
      "Sunny's favourite language is python.\n"
     ]
    }
   ],
   "source": [
    "fav_lg = {\n",
    "    'sunny' : 'python',\n",
    "    'siam' : 'java',\n",
    "    'saami' : 'C++',\n",
    "}\n",
    "print(\"Sunny's favourite language is \" + fav_lg['sunny'] + \".\")"
   ]
  },
  {
   "cell_type": "markdown",
   "id": "cbe37fc1-7271-44ff-994d-e5e792980b63",
   "metadata": {},
   "source": [
    "## Looping\n"
   ]
  },
  {
   "cell_type": "code",
   "execution_count": 33,
   "id": "35b5888d-8ab3-466e-b204-a07e83e6c375",
   "metadata": {},
   "outputs": [
    {
     "name": "stdout",
     "output_type": "stream",
     "text": [
      "\n",
      "Key : username\n",
      "Value : sunny\n",
      "\n",
      "Key : first\n",
      "Value : asaduzzaman\n",
      "\n",
      "Key : last\n",
      "Value : sunny\n"
     ]
    }
   ],
   "source": [
    "user_0 = {\n",
    "    'username' : 'sunny',\n",
    "    'first' : 'asaduzzaman',\n",
    "    'last' : 'sunny',\n",
    "   }\n",
    "for key, value in user_0.items():\n",
    "    print(\"\\nKey : \" + key)\n",
    "    print(\"Value : \" + value)"
   ]
  },
  {
   "cell_type": "code",
   "execution_count": 35,
   "id": "7e2844a3-80d4-480d-90d9-41bcc8b1a8de",
   "metadata": {},
   "outputs": [
    {
     "name": "stdout",
     "output_type": "stream",
     "text": [
      "Username\n",
      "First\n",
      "Last\n"
     ]
    }
   ],
   "source": [
    "for name in user_0.keys():\n",
    "    print(name.title())"
   ]
  },
  {
   "cell_type": "code",
   "execution_count": 37,
   "id": "788eb83a-bf44-418f-a27e-1a43cf68bdc8",
   "metadata": {},
   "outputs": [
    {
     "name": "stdout",
     "output_type": "stream",
     "text": [
      "Sunny\n",
      "Asaduzzaman\n",
      "Sunny\n"
     ]
    }
   ],
   "source": [
    "for name in user_0.values():\n",
    "    print(name.title())"
   ]
  },
  {
   "cell_type": "markdown",
   "id": "a15ddde8-f06c-4693-aa52-006f5a189d27",
   "metadata": {},
   "source": [
    "## Creating dict list"
   ]
  },
  {
   "cell_type": "code",
   "execution_count": 54,
   "id": "9c85969e-b2d9-483b-bdfe-8cdf06b77313",
   "metadata": {},
   "outputs": [
    {
     "name": "stdout",
     "output_type": "stream",
     "text": [
      "\tStudent details\n",
      "\n",
      "Student Name -> sunny\n",
      "\n",
      "Student rollno -> 1\n",
      "\n",
      "Student Name -> saidul\n",
      "\n",
      "Student rollno -> 2\n",
      "\n",
      "Student Name -> rohid\n",
      "\n",
      "Student rollno -> 3\n",
      "\n",
      "Student Name -> wasif\n",
      "\n",
      "Student rollno -> 4\n",
      "\n",
      "Student Name -> galib\n",
      "\n",
      "Student rollno -> 5\n",
      "\n",
      "Student Name -> hasan\n",
      "\n",
      "Student rollno -> 6\n",
      "\n"
     ]
    }
   ],
   "source": [
    "students_A = {\n",
    "    'sunny' : 1,\n",
    "    'saidul' : 2,\n",
    "    'rohid' : 3,\n",
    "}\n",
    "students_B = {\n",
    "    'wasif' : 4,\n",
    "    'galib' : 5,\n",
    "    'hasan' : 6,\n",
    "}\n",
    "std_grp = [students_A, students_B]\n",
    "print(\"\\tStudent details\\n\")\n",
    "for std in std_grp:\n",
    "    for k,s in std.items():\n",
    "       ## print(\"\\nStudent details\\n\")\n",
    "        print(\"Student Name -> \" + k + \"\\n\")\n",
    "        print(\"Student rollno -> \" + str(s) + \"\\n\")\n"
   ]
  },
  {
   "cell_type": "code",
   "execution_count": 64,
   "id": "5dfd1451-9c16-42c3-bb7b-3c328b56209f",
   "metadata": {},
   "outputs": [
    {
     "name": "stdout",
     "output_type": "stream",
     "text": [
      "['python', 'ruby']\n",
      "c++\n",
      "{'age': 23, 'hair': 'black'}\n",
      "(23, 'white')\n"
     ]
    }
   ],
   "source": [
    "user = {\n",
    "    'sunny' : ['python','ruby'],\n",
    "    'siam' : 'c++',\n",
    "    'saami' : {'age' : 23, 'hair' : 'black'},\n",
    "    'shihab' : (23, 'white')\n",
    "}\n",
    "for v in user.values():\n",
    "    print(v)"
   ]
  },
  {
   "cell_type": "markdown",
   "id": "3190e4bb-d9b4-427c-8b04-dd7420973dc4",
   "metadata": {},
   "source": [
    "## input() function"
   ]
  },
  {
   "cell_type": "code",
   "execution_count": 1,
   "id": "2099ae07-523d-4173-bbb0-57e28a5b4f2f",
   "metadata": {},
   "outputs": [
    {
     "name": "stdin",
     "output_type": "stream",
     "text": [
      "tell me something : heyyy\n"
     ]
    },
    {
     "name": "stdout",
     "output_type": "stream",
     "text": [
      "heyyy\n"
     ]
    }
   ],
   "source": [
    "text = input(\"tell me something :\")\n",
    "print(text)"
   ]
  },
  {
   "cell_type": "code",
   "execution_count": 8,
   "id": "08aa4b46-b085-486c-b944-920228a68fb6",
   "metadata": {},
   "outputs": [
    {
     "name": "stdout",
     "output_type": "stream",
     "text": [
      "Verifying user : Shimul\n",
      "Verifying user : Shihab\n",
      "Verifying user : Sunny\n",
      "['shimul', 'shihab', 'sunny']\n"
     ]
    }
   ],
   "source": [
    "## Fb verification line\n",
    "users = ['sunny', 'shihab', 'shimul']\n",
    "c_users = []\n",
    "while users:\n",
    "    current_user = users.pop()\n",
    "    print(\"Verifying user : \" + current_user.title())\n",
    "    c_users.append(current_user)\n",
    " \n",
    "print(c_users)   "
   ]
  },
  {
   "cell_type": "code",
   "execution_count": 16,
   "id": "e85ffa96-a4c5-4365-bf49-9414475396b6",
   "metadata": {},
   "outputs": [
    {
     "name": "stdout",
     "output_type": "stream",
     "text": [
      "['shihab', 'sunny', 'siam']\n"
     ]
    }
   ],
   "source": [
    "while 'shimul' in c_users:\n",
    "    c_users.remove('shimul')\n",
    "    c_users.append('siam')\n",
    "\n",
    "print(c_users)"
   ]
  },
  {
   "cell_type": "markdown",
   "id": "b2a9a891-4d0c-4cf3-85d6-aa27e76bd8d6",
   "metadata": {},
   "source": [
    "## Function"
   ]
  },
  {
   "cell_type": "code",
   "execution_count": 1,
   "id": "bf87b8e2-a61c-4824-9fd9-7d9ff4dcd0e6",
   "metadata": {},
   "outputs": [
    {
     "name": "stdin",
     "output_type": "stream",
     "text": [
      "tell us your name ->  Sunny\n"
     ]
    },
    {
     "name": "stdout",
     "output_type": "stream",
     "text": [
      "Hello Sunny\n"
     ]
    }
   ],
   "source": [
    "def greet_user(username):\n",
    "    print(\"Hello \" + username)\n",
    "text = input(\"tell us your name -> \")\n",
    "greet_user(text)"
   ]
  },
  {
   "cell_type": "markdown",
   "id": "88900f3d-bee7-441e-a8b3-ed147d42c3b4",
   "metadata": {},
   "source": [
    "### Arbitrary arguments"
   ]
  },
  {
   "cell_type": "code",
   "execution_count": 6,
   "id": "e9fa755d-516a-4d5b-88ac-cb26a1373f2c",
   "metadata": {},
   "outputs": [
    {
     "name": "stdout",
     "output_type": "stream",
     "text": [
      "(['Pepperoni'],)\n",
      "('mushrooms', 'green peppers', 'extra cheese')\n"
     ]
    }
   ],
   "source": [
    "def make_pizza(*toppings):\n",
    "    print(toppings)\n",
    "make_pizza(['Pepperoni'])\n",
    "make_pizza('mushrooms', 'green peppers', 'extra cheese')"
   ]
  },
  {
   "cell_type": "markdown",
   "id": "0970c5a3-b13c-409a-8bdc-bc8a6ee58df9",
   "metadata": {},
   "source": [
    "## Modules"
   ]
  },
  {
   "cell_type": "markdown",
   "id": "34889864-42f9-4765-a116-8715a7d518cd",
   "metadata": {},
   "source": [
    "- we can store our function in a separate file called a 'Modul'"
   ]
  },
  {
   "cell_type": "code",
   "execution_count": null,
   "id": "e90913e3-1498-460f-871e-84e6acf60960",
   "metadata": {},
   "outputs": [],
   "source": []
  }
 ],
 "metadata": {
  "kernelspec": {
   "display_name": "Python 3 (ipykernel)",
   "language": "python",
   "name": "python3"
  },
  "language_info": {
   "codemirror_mode": {
    "name": "ipython",
    "version": 3
   },
   "file_extension": ".py",
   "mimetype": "text/x-python",
   "name": "python",
   "nbconvert_exporter": "python",
   "pygments_lexer": "ipython3",
   "version": "3.12.4"
  }
 },
 "nbformat": 4,
 "nbformat_minor": 5
}
