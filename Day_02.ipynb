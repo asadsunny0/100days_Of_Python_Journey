{
 "cells": [
  {
   "cell_type": "markdown",
   "id": "f60c4834-5120-408e-92a4-46768e6b3880",
   "metadata": {},
   "source": [
    "# Working with Lists\n",
    "\n",
    "- Reference book -> Python Crash Course by Eric Matthes (Page 50-115)"
   ]
  },
  {
   "cell_type": "code",
   "execution_count": 9,
   "id": "5ccca086-eae5-4a28-b65f-4ce6604054d8",
   "metadata": {},
   "outputs": [
    {
     "name": "stdout",
     "output_type": "stream",
     "text": [
      "Alice, that was a great trick !\n",
      "David, that was a great trick !\n",
      "Carolina, that was a great trick !\n",
      "\n",
      "Thank you, everyone . That was a great show !\n"
     ]
    }
   ],
   "source": [
    "magicians = ['alice', 'david', 'carolina']\n",
    "for magician in magicians:\n",
    "    print(magician.title() + \", that was a great trick !\")\n",
    "print(\"\\nThank you, everyone . That was a great show !\")"
   ]
  },
  {
   "cell_type": "code",
   "execution_count": 17,
   "id": "6b4b6874-e591-48a3-a5ed-03a376f6e611",
   "metadata": {},
   "outputs": [
    {
     "name": "stdout",
     "output_type": "stream",
     "text": [
      "I like chezzy pizzas.\n",
      "I like BBQ pizzas.\n",
      "I like Meat_Ball pizzas.\n",
      "\n",
      "I really love pizza\n"
     ]
    }
   ],
   "source": [
    "pizzas = ['chezzy', 'BBQ', 'Meat_Ball']\n",
    "for i in pizzas:\n",
    "    print(\"I like \" + i + \" pizzas.\")\n",
    "print(\"\\nI really love pizza\")"
   ]
  },
  {
   "cell_type": "markdown",
   "id": "dfbd5f7f-9f3d-496f-98ba-3236841ee00e",
   "metadata": {},
   "source": [
    "# Making Numerical Lists"
   ]
  },
  {
   "cell_type": "code",
   "execution_count": 26,
   "id": "f78fcf4f-5745-4909-b856-f8eba932c610",
   "metadata": {},
   "outputs": [
    {
     "name": "stdout",
     "output_type": "stream",
     "text": [
      "1\n",
      "2\n",
      "3\n",
      "4\n"
     ]
    }
   ],
   "source": [
    "for value in range(1,5):\n",
    "    print(value)"
   ]
  },
  {
   "cell_type": "code",
   "execution_count": 28,
   "id": "b3c42e4f-8a68-45ec-9eff-ae0926346a45",
   "metadata": {},
   "outputs": [
    {
     "name": "stdout",
     "output_type": "stream",
     "text": [
      "[1, 2, 3, 4, 5]\n"
     ]
    }
   ],
   "source": [
    "nums = list(range(1,6))\n",
    "print(nums)"
   ]
  },
  {
   "cell_type": "code",
   "execution_count": 33,
   "id": "6ad03990-f574-4065-93ca-044d094242e8",
   "metadata": {},
   "outputs": [
    {
     "name": "stdout",
     "output_type": "stream",
     "text": [
      "[2, 4, 6, 8, 10]\n"
     ]
    }
   ],
   "source": [
    "even_nums = list(range(2,11,2))\n",
    "print(even_nums)"
   ]
  },
  {
   "cell_type": "code",
   "execution_count": 35,
   "id": "26863aea-3ad9-44ad-9974-cf0799484c0d",
   "metadata": {},
   "outputs": [
    {
     "name": "stdout",
     "output_type": "stream",
     "text": [
      "[1, 3, 5, 7, 9]\n"
     ]
    }
   ],
   "source": [
    "odd_nums = list(range(1,11,2))\n",
    "print(odd_nums)"
   ]
  },
  {
   "cell_type": "code",
   "execution_count": 39,
   "id": "d5a7feb6-91be-4a3f-9e04-c5cbed9067cf",
   "metadata": {},
   "outputs": [
    {
     "name": "stdout",
     "output_type": "stream",
     "text": [
      "[1, 4, 9, 16, 25, 36, 49, 64, 81, 100]\n"
     ]
    }
   ],
   "source": [
    "sq = []\n",
    "for i in range(1,11):\n",
    "    sq.append(i**2);\n",
    "print(sq)"
   ]
  },
  {
   "cell_type": "code",
   "execution_count": 43,
   "id": "eeaab2db-406d-4acb-93ce-4c4456015a10",
   "metadata": {},
   "outputs": [
    {
     "data": {
      "text/plain": [
       "46"
      ]
     },
     "execution_count": 43,
     "metadata": {},
     "output_type": "execute_result"
    }
   ],
   "source": [
    "digits = [2, 7, 8, 12, 46, 9]\n",
    "max(digits)\n"
   ]
  },
  {
   "cell_type": "code",
   "execution_count": 45,
   "id": "c45a9be1-7d1b-4287-8020-8a97683d9411",
   "metadata": {},
   "outputs": [
    {
     "data": {
      "text/plain": [
       "2"
      ]
     },
     "execution_count": 45,
     "metadata": {},
     "output_type": "execute_result"
    }
   ],
   "source": [
    "min(digits)"
   ]
  },
  {
   "cell_type": "code",
   "execution_count": 49,
   "id": "d91c64ed-daca-4349-b0ee-8a0a14fb6194",
   "metadata": {},
   "outputs": [
    {
     "data": {
      "text/plain": [
       "84"
      ]
     },
     "execution_count": 49,
     "metadata": {},
     "output_type": "execute_result"
    }
   ],
   "source": [
    "sum(digits)"
   ]
  },
  {
   "cell_type": "markdown",
   "id": "512d6c7c-120f-4f18-81be-cda250c39ff3",
   "metadata": {},
   "source": [
    "# List Comprehensions\n",
    "- The following example builds the same list of square numbers you saw\r\n",
    "earlier but uses a list comprehension"
   ]
  },
  {
   "cell_type": "code",
   "execution_count": 54,
   "id": "7c77dffe-486b-43a5-a0f9-fce785142ef7",
   "metadata": {},
   "outputs": [
    {
     "name": "stdout",
     "output_type": "stream",
     "text": [
      "[1, 4, 9, 16, 25, 36, 49, 64, 81, 100]\n"
     ]
    }
   ],
   "source": [
    "sq = [i**2 for i in range(1,11)]\n",
    "print(sq)"
   ]
  },
  {
   "cell_type": "markdown",
   "id": "bea4f04c-f55d-4206-a0ce-e27700eddb73",
   "metadata": {},
   "source": [
    "# Slicing a List"
   ]
  },
  {
   "cell_type": "code",
   "execution_count": 68,
   "id": "2bbd9c72-1b77-4de9-b6ad-c6f13031d6ac",
   "metadata": {},
   "outputs": [
    {
     "name": "stdout",
     "output_type": "stream",
     "text": [
      "['Charles', 'martina', 'michael']\n",
      "['Charles', 'martina', 'michael']\n",
      "['michael', 'florence', 'eli']\n",
      "['michael', 'florence', 'eli']\n"
     ]
    }
   ],
   "source": [
    "players = ['Charles', 'martina', 'michael', 'florence', 'eli']\n",
    "print(players[0:3])\n",
    "# or\n",
    "print(players[:3])\n",
    "#another\n",
    "print(players[2:])\n",
    "#or\n",
    "print(players[-3:])"
   ]
  },
  {
   "cell_type": "markdown",
   "id": "ea2a7b6c-24fb-4156-a79f-92b30e3d3e4e",
   "metadata": {},
   "source": [
    "# Looping Through a Slice\n"
   ]
  },
  {
   "cell_type": "code",
   "execution_count": 73,
   "id": "ff4b9539-1750-40a3-a831-4a2199c02c98",
   "metadata": {},
   "outputs": [
    {
     "name": "stdout",
     "output_type": "stream",
     "text": [
      "Charles\n",
      "Martina\n",
      "Michael\n"
     ]
    }
   ],
   "source": [
    "for i in players[:3]:\n",
    "    print(i.title())"
   ]
  },
  {
   "cell_type": "markdown",
   "id": "c803f07a-e51c-4b64-8244-2d07499b5170",
   "metadata": {},
   "source": [
    "# Copying a List"
   ]
  },
  {
   "cell_type": "code",
   "execution_count": 82,
   "id": "b8ad9530-9e6b-4bee-bc47-834bbdb69121",
   "metadata": {},
   "outputs": [
    {
     "name": "stdout",
     "output_type": "stream",
     "text": [
      "My favourite foods are: \n",
      "['Pizza', 'cake', 'cookies']\n",
      "\n",
      "My friend's favourite foods are: \n",
      "['Pizza', 'cake', 'cookies', 'chocolate']\n"
     ]
    }
   ],
   "source": [
    "my_foods = ['Pizza', 'cake', 'cookies']\n",
    "friend_foods = my_foods[:]\n",
    "friend_foods.append('chocolate')\n",
    "print(\"My favourite foods are: \")\n",
    "print(my_foods)\n",
    "print(\"\\nMy friend's favourite foods are: \")\n",
    "print(friend_foods)"
   ]
  },
  {
   "cell_type": "markdown",
   "id": "57891138-46db-4a94-a56b-70d4a486ee7b",
   "metadata": {},
   "source": [
    "# Tuples\n",
    "- Sometimes you’ll want to create a list of items that cannot\r\n",
    "change. Tuples allow you to do just that. Python refers to values that cannot\r\n",
    "change as immutable, and a**n immutable list is called a tup**le."
   ]
  },
  {
   "cell_type": "code",
   "execution_count": 90,
   "id": "583784dc-7df4-46dc-b75b-7dc300c506d9",
   "metadata": {},
   "outputs": [
    {
     "name": "stdout",
     "output_type": "stream",
     "text": [
      "200\n",
      "50\n"
     ]
    }
   ],
   "source": [
    "dim_rec = (200, 50)\n",
    "# dim_rec[0] = 250 -> we will get an error ; we can't alter a tuple\n",
    "print(dim_rec[0])\n",
    "print(dim_rec[1])"
   ]
  },
  {
   "cell_type": "code",
   "execution_count": 92,
   "id": "27060783-378b-4429-86e7-f67e3253af7b",
   "metadata": {},
   "outputs": [
    {
     "name": "stdout",
     "output_type": "stream",
     "text": [
      "200\n",
      "50\n"
     ]
    }
   ],
   "source": [
    "#or\n",
    "for i in dim_rec:\n",
    "    print(i)"
   ]
  },
  {
   "cell_type": "markdown",
   "id": "d834ac4b-27f4-43e1-a360-3ed8987ce9a9",
   "metadata": {},
   "source": [
    "# Writing over a Tuple"
   ]
  },
  {
   "cell_type": "code",
   "execution_count": 97,
   "id": "1a2590c3-159e-405c-b4d3-d89b06dffa86",
   "metadata": {},
   "outputs": [
    {
     "name": "stdout",
     "output_type": "stream",
     "text": [
      "Orginal : \n",
      "50\n",
      "200\n",
      "\n",
      "Modified : \n",
      "100\n",
      "400\n"
     ]
    }
   ],
   "source": [
    "dim = (50,200)\n",
    "print(\"Orginal : \")\n",
    "for i in dim:\n",
    "    print(i)\n",
    "dim = (100,400)\n",
    "print(\"\\nModified : \")\n",
    "for i in dim:\n",
    "    print(i)"
   ]
  },
  {
   "cell_type": "markdown",
   "id": "7884d12c-fb3d-485e-ad39-439000a7e339",
   "metadata": {},
   "source": [
    "# If Statements"
   ]
  },
  {
   "cell_type": "code",
   "execution_count": 4,
   "id": "0b346976-6d99-4fa6-8ebb-d97b867246c0",
   "metadata": {},
   "outputs": [
    {
     "name": "stdout",
     "output_type": "stream",
     "text": [
      "Audi\n",
      "BMW\n",
      "Subaru\n",
      "Toyota\n"
     ]
    }
   ],
   "source": [
    "cars = ['audi', 'bmw', 'subaru', 'toyota']\n",
    "for i in cars:\n",
    "    if i == 'bmw':\n",
    "       print(i.upper())\n",
    "    else:\n",
    "       print(i.title())\n",
    "    "
   ]
  },
  {
   "cell_type": "code",
   "execution_count": 6,
   "id": "407e9168-d83e-4900-9687-86a7ccacd92b",
   "metadata": {},
   "outputs": [
    {
     "name": "stdout",
     "output_type": "stream",
     "text": [
      "Marie, you can post a response if you wish.\n"
     ]
    }
   ],
   "source": [
    "banned_users = ['andrew', 'carolina', 'david']\n",
    "user = 'marie'\n",
    "\n",
    "if user not in banned_users:\n",
    "    print(user.title() + \", you can post a response if you wish.\")"
   ]
  },
  {
   "cell_type": "code",
   "execution_count": 8,
   "id": "1af2d7c3-440f-425f-bde4-a2102c3a70c4",
   "metadata": {},
   "outputs": [
    {
     "name": "stdout",
     "output_type": "stream",
     "text": [
      "Is car == 'subaru'? I predict True.\n",
      "True\n",
      "\n",
      "Is car == 'audi'? I predict False.\n",
      "False\n"
     ]
    }
   ],
   "source": [
    "car = 'subaru'\n",
    "print(\"Is car == 'subaru'? I predict True.\")\n",
    "print(car == 'subaru')\n",
    "print(\"\\nIs car == 'audi'? I predict False.\")\n",
    "print(car == 'audi')\n"
   ]
  },
  {
   "cell_type": "code",
   "execution_count": 14,
   "id": "b108a0a8-9594-48dd-95b9-01efceb0a767",
   "metadata": {},
   "outputs": [
    {
     "name": "stdout",
     "output_type": "stream",
     "text": [
      "You are not old enough\n"
     ]
    }
   ],
   "source": [
    "age = 13\n",
    "if age >= 18:\n",
    "    print(\"you are old enough to vote!\")\n",
    "else:\n",
    "    print(\"You are not old enough\")"
   ]
  },
  {
   "cell_type": "code",
   "execution_count": 16,
   "id": "078fe64d-c575-47c3-816f-639d991426f3",
   "metadata": {},
   "outputs": [
    {
     "name": "stdout",
     "output_type": "stream",
     "text": [
      "Your admission cost is 10 $\n"
     ]
    }
   ],
   "source": [
    "age = 23\n",
    "if age <= 4:\n",
    "    print(\"Your admission cost is 0 $\")\n",
    "elif age > 4 and age <= 18:\n",
    "    print(\"Your admission cost in 5 $\")\n",
    "else : \n",
    "    print(\"Your admission cost is 10 $\")\n",
    "    "
   ]
  },
  {
   "cell_type": "markdown",
   "id": "bc10347a-55b3-474a-969a-6f228c4f0510",
   "metadata": {},
   "source": [
    "# Using if statements with Lists"
   ]
  },
  {
   "cell_type": "code",
   "execution_count": 23,
   "id": "d3ba8ae6-4333-4cec-96fd-d2d21092d5b8",
   "metadata": {},
   "outputs": [
    {
     "name": "stdout",
     "output_type": "stream",
     "text": [
      "Adding mushrooms.\n",
      "Sorry, we are out of pineapple right now\n",
      "Adding green peppers.\n",
      "Adding extra cheese.\n",
      "\n",
      "Finished making your pizza!\n"
     ]
    }
   ],
   "source": [
    "requested_toppings = ['mushrooms', 'pineapple', 'green peppers', 'extra cheese']\n",
    "for i in requested_toppings:\n",
    "    if i == 'pineapple':\n",
    "        print(\"Sorry, we are out of pineapple right now\")\n",
    "    else:\n",
    "        print(\"Adding \" + i + \".\")\n",
    "\n",
    "print(\"\\nFinished making your pizza!\")"
   ]
  },
  {
   "cell_type": "markdown",
   "id": "ca0b9028-0aab-4f42-a2bf-05a37b59ded8",
   "metadata": {},
   "source": [
    "# Dictionaries "
   ]
  },
  {
   "cell_type": "markdown",
   "id": "7cafcb7a-1643-4ce6-bd60-3c2492e1503a",
   "metadata": {},
   "source": [
    "### A sample Dictionary\n",
    "- A dictionary in Python is a collection of key-value pairs. Each key is connected\r\n",
    "to a value, and you can use a key to access the value associated with that key.\r\n",
    "A key’s value can be **a number, a string, a list, or even another dictionar**y."
   ]
  },
  {
   "cell_type": "code",
   "execution_count": 33,
   "id": "92f106b7-b3e5-44d1-a2c8-ff3841b4405b",
   "metadata": {},
   "outputs": [
    {
     "name": "stdout",
     "output_type": "stream",
     "text": [
      "{'fruit': 'apple', 'color': 'red', 'quantity': 5}\n",
      "apple\n"
     ]
    }
   ],
   "source": [
    "item = {'fruit' : 'apple', 'color': 'red', 'quantity' : 5}\n",
    "print(item)\n",
    "print(item['fruit'])"
   ]
  },
  {
   "cell_type": "code",
   "execution_count": 36,
   "id": "80167767-b361-415c-b834-4658374426b2",
   "metadata": {},
   "outputs": [
    {
     "name": "stdout",
     "output_type": "stream",
     "text": [
      "we have only 5 apple in our store.\n"
     ]
    }
   ],
   "source": [
    "print(\"we have only \" + str(item['quantity']) + \" apple in our store.\")"
   ]
  },
  {
   "cell_type": "markdown",
   "id": "f8375a1f-d803-4f31-9b69-6e1dbfebb6b8",
   "metadata": {},
   "source": [
    "# Adding new key_value pairs"
   ]
  },
  {
   "cell_type": "code",
   "execution_count": 49,
   "id": "51bf5b41-1bee-459c-9892-75c5b370e796",
   "metadata": {},
   "outputs": [],
   "source": [
    "item['quantity_1'] = 10\n",
    "item['color_1'] = 'yellow'\n",
    "item['fruit_1'] = 'banana'"
   ]
  },
  {
   "cell_type": "code",
   "execution_count": 51,
   "id": "7541d2af-b4b9-46f1-b445-0658a4acf1ae",
   "metadata": {},
   "outputs": [
    {
     "name": "stdout",
     "output_type": "stream",
     "text": [
      "{'fruit': 'apple', 'color': 'yellow', 'quantity': 10, 'fruit_1': 'banana', 'quantity_1': 10, 'color_1': 'yellow'}\n"
     ]
    }
   ],
   "source": [
    "print(item)"
   ]
  },
  {
   "cell_type": "code",
   "execution_count": 54,
   "id": "76cfbec0-3955-4524-9a7e-ec3a87d1b2d5",
   "metadata": {},
   "outputs": [
    {
     "name": "stdout",
     "output_type": "stream",
     "text": [
      "{'color': 'green', 'points': 5}\n"
     ]
    }
   ],
   "source": [
    "# or \n",
    "item_1 = {}\n",
    "item_1['color'] = 'green'\n",
    "item_1['points'] = 5\n",
    "print(item_1)"
   ]
  },
  {
   "cell_type": "markdown",
   "id": "9d4806f1-6af6-4a5d-bba2-a047ae13c016",
   "metadata": {},
   "source": [
    "# Removing Key-Value Pairs\n"
   ]
  },
  {
   "cell_type": "code",
   "execution_count": 57,
   "id": "19e21008-b06e-4042-9034-b659e33bd749",
   "metadata": {},
   "outputs": [
    {
     "name": "stdout",
     "output_type": "stream",
     "text": [
      "{'color': 'green'}\n"
     ]
    }
   ],
   "source": [
    "del item_1['points']\n",
    "print(item_1)"
   ]
  },
  {
   "cell_type": "code",
   "execution_count": 61,
   "id": "3fcd7aa8-cde0-4968-a2fe-b297c34d14d9",
   "metadata": {},
   "outputs": [
    {
     "name": "stdout",
     "output_type": "stream",
     "text": [
      "Sunny's favourite language name is python.\n"
     ]
    }
   ],
   "source": [
    "favourite_languages = {\n",
    "          'sunny':'python',\n",
    "          'siam' :'C',\n",
    "          'sami' : 'C++'\n",
    "          }\n",
    "print(\"Sunny's favourite language name is \" + favourite_languages['sunny'] + \".\")"
   ]
  },
  {
   "cell_type": "markdown",
   "id": "63f8ac61-d3b5-423c-ae0b-576a9b833cab",
   "metadata": {},
   "source": [
    "# Looping through all key_value pairs"
   ]
  },
  {
   "cell_type": "code",
   "execution_count": 66,
   "id": "ebe24470-2b53-49f4-aa4c-f67adef1099d",
   "metadata": {},
   "outputs": [
    {
     "name": "stdout",
     "output_type": "stream",
     "text": [
      "\n",
      "Key: sunny\n",
      "Value: python\n",
      "\n",
      "Key: siam\n",
      "Value: C\n",
      "\n",
      "Key: sami\n",
      "Value: C++\n"
     ]
    }
   ],
   "source": [
    "for key, value in favourite_languages.items():\n",
    "    print(\"\\nKey: \" + key)\n",
    "    print(\"Value: \" + value)"
   ]
  },
  {
   "cell_type": "code",
   "execution_count": 80,
   "id": "b0136457-d6ef-4b57-a77a-d7786fcd1ad1",
   "metadata": {},
   "outputs": [
    {
     "name": "stdout",
     "output_type": "stream",
     "text": [
      "Jen's favourit language is Python.\n",
      "Sarah's favourit language is C.\n",
      "Edward's favourit language is Ruby.\n",
      "Phil's favourit language is Python.\n",
      "Sunny's favourit language is Python.\n"
     ]
    }
   ],
   "source": [
    "favorite_languages = {\n",
    "   'jen': 'python',\n",
    "   'sarah': 'c',\n",
    "   'edward': 'ruby',\n",
    "   'phil': 'python',\n",
    "   'sunny' : 'python',\n",
    "   }\n",
    "for k,v in favorite_languages.items():\n",
    "    print(k.title() + \"'s favourit language is \" + \n",
    "         v.title() + \".\")"
   ]
  },
  {
   "cell_type": "code",
   "execution_count": 82,
   "id": "0f37ff0a-75ff-4865-8c5b-524364ac7d3e",
   "metadata": {},
   "outputs": [
    {
     "name": "stdout",
     "output_type": "stream",
     "text": [
      "Jen\n",
      "Sarah\n",
      "Edward\n",
      "Phil\n",
      "Sunny\n"
     ]
    }
   ],
   "source": [
    "# for accessing keys\n",
    "for name in favorite_languages.keys():\n",
    "    print(name.title())"
   ]
  },
  {
   "cell_type": "code",
   "execution_count": 84,
   "id": "db717590-3b76-4fb1-904f-b320b1b20b14",
   "metadata": {},
   "outputs": [
    {
     "name": "stdout",
     "output_type": "stream",
     "text": [
      "Edward, thank you for taking the poll.\n",
      "Jen, thank you for taking the poll.\n",
      "Phil, thank you for taking the poll.\n",
      "Sarah, thank you for taking the poll.\n",
      "Sunny, thank you for taking the poll.\n"
     ]
    }
   ],
   "source": [
    "for name in sorted(favorite_languages.keys()):\n",
    "    print(name.title() + \", thank you for taking the poll.\")"
   ]
  },
  {
   "cell_type": "code",
   "execution_count": 97,
   "id": "320cd8a1-6839-4f9d-8ea6-4bc99578814e",
   "metadata": {},
   "outputs": [
    {
     "name": "stdout",
     "output_type": "stream",
     "text": [
      "The following languages have been mentioned:\n",
      "Python\n",
      "C\n",
      "C++\n"
     ]
    }
   ],
   "source": [
    "print(\"The following languages have been mentioned:\")\n",
    "for value in favourite_languages.values():\n",
    "    print(value.title())"
   ]
  },
  {
   "cell_type": "markdown",
   "id": "30b2997a-7387-4532-9597-8c1d310f071b",
   "metadata": {},
   "source": [
    "### set \n",
    "- A set is similar to a list except that each item in the set must be **unique**"
   ]
  },
  {
   "cell_type": "code",
   "execution_count": 93,
   "id": "4064218d-f7f7-4750-af1b-9eb932554313",
   "metadata": {},
   "outputs": [
    {
     "name": "stdout",
     "output_type": "stream",
     "text": [
      "Python\n",
      "C\n",
      "C++\n"
     ]
    }
   ],
   "source": [
    "for i in set(favourite_languages.values()):\n",
    "    print(i.title())"
   ]
  },
  {
   "cell_type": "markdown",
   "id": "cd527887-ac6e-4a83-9bca-88f167097761",
   "metadata": {},
   "source": [
    "# A List of Dictionaries"
   ]
  },
  {
   "cell_type": "code",
   "execution_count": 105,
   "id": "03398e80-fa14-4c85-bbbd-954927d59b47",
   "metadata": {},
   "outputs": [
    {
     "name": "stdout",
     "output_type": "stream",
     "text": [
      "{'fruit': 'apple', 'color': 'red', 'quantity': 5}\n",
      "{'fruit': 'Banana', 'color': 'yellow', 'quantity': 3}\n",
      "{'fruit': 'Guava', 'color': 'Light green', 'quantity': 8}\n"
     ]
    }
   ],
   "source": [
    "item_0 = {'fruit':'apple', 'color':'red', 'quantity':5}\n",
    "item_1 = {'fruit':'Banana', 'color':'yellow', 'quantity':3}\n",
    "item_2 = {'fruit':'Guava', 'color':'Light green', 'quantity':8}\n",
    "items = [item_0, item_1, item_2]\n",
    "\n",
    "for i in items:\n",
    "    print(i)"
   ]
  },
  {
   "cell_type": "code",
   "execution_count": 107,
   "id": "a34df342-830c-4bcd-8632-6cd79440c015",
   "metadata": {},
   "outputs": [
    {
     "name": "stdout",
     "output_type": "stream",
     "text": [
      "{'color': 'Black', 'tires': 4}\n",
      "{'color': 'Black', 'tires': 4}\n",
      "{'color': 'Black', 'tires': 4}\n",
      "{'color': 'Black', 'tires': 4}\n",
      "{'color': 'Black', 'tires': 4}\n",
      "...\n",
      "Total number of cars : 20\n"
     ]
    }
   ],
   "source": [
    "cars = []\n",
    "for car in range(20):\n",
    "    new_car = {'color':'Black', 'tires':4}\n",
    "    cars.append(new_car)\n",
    "for i in cars[:5]:\n",
    "    print(i)\n",
    "print(\"...\")\n",
    "\n",
    "print(\"Total number of cars : \" + str(len(cars)))"
   ]
  },
  {
   "cell_type": "markdown",
   "id": "f65d4813-8248-411e-aaab-16e83498a5e6",
   "metadata": {},
   "source": [
    "## A List in a Dictionary"
   ]
  },
  {
   "cell_type": "code",
   "execution_count": 110,
   "id": "203d4a8e-a4c0-4d11-bbfd-b678d9ae3048",
   "metadata": {},
   "outputs": [
    {
     "name": "stdout",
     "output_type": "stream",
     "text": [
      "You ordered a thick crust pizzawith the following toppings:\n",
      "\tmushrooms\n",
      "\textra cheese\n"
     ]
    }
   ],
   "source": [
    "pizza = {\n",
    "    'crust': 'thick',\n",
    "    'toppings' : ['mushrooms', 'extra cheese'],\n",
    "   }\n",
    "print(\"You ordered a \" + pizza['crust'] + \" crust pizza\" + \n",
    "        \"with the following toppings:\")\n",
    "for i in pizza['toppings']:\n",
    "    print(\"\\t\" + i)"
   ]
  },
  {
   "cell_type": "markdown",
   "id": "d664616b-d7a3-4c2c-850c-3936edf38427",
   "metadata": {},
   "source": [
    "## A dictionary in a Dictionary"
   ]
  },
  {
   "cell_type": "code",
   "execution_count": 116,
   "id": "6ed7a59e-39b9-4a0f-b242-b8b9d5fc79b4",
   "metadata": {},
   "outputs": [
    {
     "name": "stdout",
     "output_type": "stream",
     "text": [
      "\n",
      "Username: aienstein\n",
      "\tFull name: Albert Einstein\n",
      "\tLocation: Princeton\n",
      "\n",
      "Username: mcurie\n",
      "\tFull name: Marie Curie\n",
      "\tLocation: Paris\n"
     ]
    }
   ],
   "source": [
    "users = {\n",
    "    'aienstein' : {\n",
    "        'first' : 'albert',\n",
    "        'last' : 'einstein',\n",
    "        'location' : 'princeton',\n",
    "        },\n",
    "     'mcurie' : {\n",
    "         'first' : 'marie',\n",
    "         'last' : 'curie',\n",
    "         'location' : 'paris',\n",
    "        },\n",
    "}\n",
    "\n",
    "for username, user_info in users.items():\n",
    "    print(\"\\nUsername: \" + username)\n",
    "    full_name = user_info['first'] + \" \" + user_info['last']\n",
    "    location = user_info['location']\n",
    "\n",
    "    print(\"\\tFull name: \" + full_name.title())\n",
    "    print(\"\\tLocation: \" + location.title())    "
   ]
  },
  {
   "cell_type": "code",
   "execution_count": null,
   "id": "25ebda93-6b8b-484c-a173-d887fade3cbf",
   "metadata": {},
   "outputs": [],
   "source": []
  }
 ],
 "metadata": {
  "kernelspec": {
   "display_name": "Python 3 (ipykernel)",
   "language": "python",
   "name": "python3"
  },
  "language_info": {
   "codemirror_mode": {
    "name": "ipython",
    "version": 3
   },
   "file_extension": ".py",
   "mimetype": "text/x-python",
   "name": "python",
   "nbconvert_exporter": "python",
   "pygments_lexer": "ipython3",
   "version": "3.12.4"
  }
 },
 "nbformat": 4,
 "nbformat_minor": 5
}
