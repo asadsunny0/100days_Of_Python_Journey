{
 "cells": [
  {
   "cell_type": "markdown",
   "id": "88eebf8f-9bc8-415a-b1e4-f4ff013a6415",
   "metadata": {},
   "source": [
    "# Class"
   ]
  },
  {
   "cell_type": "code",
   "execution_count": 4,
   "id": "c1a7fe61-2c2a-4da6-a5dd-82070c7e354b",
   "metadata": {},
   "outputs": [],
   "source": [
    "## basic class\n",
    "class Dog():\n",
    "    def __init__(self,name,age):\n",
    "        self.name = name\n",
    "        self.age = age\n",
    "\n",
    "    def sit(self):\n",
    "        print(self.name.title() + \" is now sitting.\")\n",
    "    def roll_over(self):\n",
    "        print(self.name.title() + \" rolled over!\")"
   ]
  },
  {
   "cell_type": "code",
   "execution_count": 6,
   "id": "afdbf1e8-d24c-4d4b-bd1f-cfd67cfcdb3d",
   "metadata": {},
   "outputs": [
    {
     "name": "stdout",
     "output_type": "stream",
     "text": [
      "Puppy is now sitting.\n",
      "Puppy rolled over!\n"
     ]
    }
   ],
   "source": [
    "puppy : Dog = Dog(name = 'puppy', age = 5)\n",
    "puppy.sit()\n",
    "puppy.roll_over()"
   ]
  },
  {
   "cell_type": "code",
   "execution_count": 10,
   "id": "0c3cd0a7-07a9-4301-8c04-ed2462e9ba4f",
   "metadata": {},
   "outputs": [
    {
     "name": "stdout",
     "output_type": "stream",
     "text": [
      "Kiki is now sitting.\n",
      "Kiki rolled over!\n",
      "My dog's name is kiki\n"
     ]
    }
   ],
   "source": [
    "my_dog = Dog(\"kiki\", 4)\n",
    "my_dog.sit()\n",
    "my_dog.roll_over()\n",
    "print(\"My dog's name is \" + my_dog.name)"
   ]
  },
  {
   "cell_type": "markdown",
   "id": "1469465e-10ee-4960-b53f-e011f6203817",
   "metadata": {},
   "source": [
    "### Example 2"
   ]
  },
  {
   "cell_type": "code",
   "execution_count": 14,
   "id": "52519057-ab3e-42e1-95d8-4cc0374159cd",
   "metadata": {},
   "outputs": [
    {
     "name": "stdout",
     "output_type": "stream",
     "text": [
      "Car's brand name is : BMW\n",
      "Car's model name is : M3\n",
      "Car's max speed is : 300Km/h\n"
     ]
    }
   ],
   "source": [
    "class car():\n",
    "    def __init__(self,brand,model,speed : int):\n",
    "        self.brand = brand\n",
    "        self.model = model\n",
    "        self.speed = speed\n",
    "    def display(self):\n",
    "        print(\"Car's brand name is : \" + self.brand)\n",
    "        print(\"Car's model name is : \" + self.model)\n",
    "        print(\"Car's max speed is : \" + str(self.speed) + \"Km/h\")\n",
    "\n",
    "my_car = car(\"BMW\", \"M3\", 300)\n",
    "my_car.display()\n"
   ]
  },
  {
   "cell_type": "markdown",
   "id": "1723c685-4857-49b1-bdb0-ccad4810921e",
   "metadata": {},
   "source": [
    "### Example 3"
   ]
  },
  {
   "cell_type": "code",
   "execution_count": 35,
   "id": "7cef9dfa-e158-4e40-beb0-1d10c0ea1dc1",
   "metadata": {},
   "outputs": [
    {
     "name": "stdout",
     "output_type": "stream",
     "text": [
      "Sunny's id no 1001 , total marks is 500 , age is 23\n",
      "Siam's id no 1002 , total marks is 450 , age is 28\n",
      "Sunny's total marks is : 500\n",
      "Siam's total marks is : 450\n"
     ]
    }
   ],
   "source": [
    "class std():\n",
    "    def __init__(self, id : int, name, t_marks : int):\n",
    "        self.id = id\n",
    "        self.name = name\n",
    "        self.t_marks = t_marks\n",
    "        self.age = 23\n",
    "    def display_marks(self):\n",
    "        return self.t_marks\n",
    "    def display(self):\n",
    "        text = self.name + \"'s id no \" + str(self.id) + \" , total marks is \" + str(self.t_marks) + \" , age is \" + str(self.age)\n",
    "        return text\n",
    "\n",
    "std_1 = std(1001, \"Sunny\", 500)\n",
    "std_2 = std(1002, \"Siam\", 450)\n",
    "## printing sunny's total marks\n",
    "print(std_1.display())\n",
    "std_2.age = 28\n",
    "print(std_2.display())\n",
    "print(std_1.name + \"'s total marks is : \" + str(std_1.display_marks()))\n",
    "print(f\"{std_2.name}'s total marks is : {std_2.display_marks()}\")"
   ]
  },
  {
   "cell_type": "markdown",
   "id": "25999083-42a2-4977-9625-d588318c2f06",
   "metadata": {},
   "source": [
    "# Inheritance"
   ]
  },
  {
   "cell_type": "code",
   "execution_count": 51,
   "id": "5ef0765d-6d3e-4fbd-9a55-36a2bc2225c2",
   "metadata": {},
   "outputs": [
    {
     "name": "stdout",
     "output_type": "stream",
     "text": [
      "tesla 400\n",
      "tesla model s 2016\n",
      "This car has 0 miles on it\n"
     ]
    }
   ],
   "source": [
    "class car():\n",
    "    def __init__(self,make,model,year):\n",
    "        self.make = make\n",
    "        self.model = model\n",
    "        self.year = year\n",
    "        self.odometer_reading = 0\n",
    "\n",
    "    def get_descriptive_name(self):\n",
    "        long_name = str(self.year) + '' + self.make + '' + self.model\n",
    "        return long_name.title()\n",
    "\n",
    "    def read_odometer(self):\n",
    "        print(\"This car has \" + str(self.odometer_reading) + \" miles on it\")\n",
    "\n",
    "class Electric_Car(car):\n",
    "    def __init__(self,make,model,year,speed):\n",
    "        super().__init__(make,model,year)\n",
    "        self.speed = speed\n",
    "    def display(self):\n",
    "        print(self.make + ' ' + self.model + ' ' + str(self.year))\n",
    "\n",
    "my_tesla = Electric_Car('tesla', 'model s', 2016, 400)\n",
    "print(my_tesla.make + ' ' + str(my_tesla.speed))\n",
    "my_tesla.display()\n",
    "my_tesla.read_odometer()"
   ]
  },
  {
   "cell_type": "code",
   "execution_count": 55,
   "id": "a2ff4c49-eb24-4e21-bcdf-e1393934ad70",
   "metadata": {},
   "outputs": [
    {
     "name": "stdout",
     "output_type": "stream",
     "text": [
      "Total marks is: 450\n",
      "Sunny's average marks is: 112.5\n",
      "Total marks is: 300\n",
      "Sami's average marks is: 100.0\n"
     ]
    }
   ],
   "source": [
    "class Student():\n",
    "    def __init__(self, name, id):\n",
    "        self.name = name\n",
    "        self.id = id\n",
    "\n",
    "class Marks():\n",
    "    def __init__(self, t_marks=500):\n",
    "        self.t_marks = t_marks\n",
    "\n",
    "    def show_marks(self):\n",
    "        print(\"Total marks is: \" + str(self.t_marks))\n",
    "\n",
    "class Student1(Student):\n",
    "    def __init__(self, name, id, t_marks, sub):\n",
    "        super().__init__(name, id)\n",
    "        self.sub = sub\n",
    "        self.mark = Marks(t_marks)\n",
    "\n",
    "    def show_avg(self):\n",
    "        # Calculate average marks\n",
    "        avg = self.mark.t_marks / self.sub  \n",
    "        print(self.name + \"'s average marks is: \" + str(avg))\n",
    "\n",
    "# Create instances of Student1\n",
    "st1 = Student1('Sunny', 1001, 450, 4)  \n",
    "st2 = Student1('Sami', 1002, 300, 3)\n",
    "\n",
    "# Display results\n",
    "st1.mark.show_marks()  \n",
    "st1.show_avg()         \n",
    "\n",
    "st2.mark.show_marks()  \n",
    "st2.show_avg()         "
   ]
  },
  {
   "cell_type": "code",
   "execution_count": null,
   "id": "f3b6edd2-60fa-4378-b552-2253ade88f74",
   "metadata": {},
   "outputs": [],
   "source": []
  }
 ],
 "metadata": {
  "kernelspec": {
   "display_name": "Python 3 (ipykernel)",
   "language": "python",
   "name": "python3"
  },
  "language_info": {
   "codemirror_mode": {
    "name": "ipython",
    "version": 3
   },
   "file_extension": ".py",
   "mimetype": "text/x-python",
   "name": "python",
   "nbconvert_exporter": "python",
   "pygments_lexer": "ipython3",
   "version": "3.12.4"
  }
 },
 "nbformat": 4,
 "nbformat_minor": 5
}
