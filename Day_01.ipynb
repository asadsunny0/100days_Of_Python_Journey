{
 "cells": [
  {
   "cell_type": "markdown",
   "id": "352acab1-ecc0-45f4-9333-458cb7fe4c31",
   "metadata": {},
   "source": [
    "# Beginner Level \n",
    "- Hello World program\n",
    "- variables and simple data types\n",
    "\n",
    "## Reference \n",
    "- Python Crash Course by Eric Matthes (page 1-50)\n"
   ]
  },
  {
   "cell_type": "markdown",
   "id": "e1190e14-fa12-4e0c-acf1-d18fcb5967f5",
   "metadata": {},
   "source": [
    "print(\"This is my 100 days python learning journey\")"
   ]
  },
  {
   "cell_type": "code",
   "execution_count": 13,
   "id": "9f3489ac-8bf3-47db-bb9b-1e2390a1d260",
   "metadata": {},
   "outputs": [
    {
     "name": "stdout",
     "output_type": "stream",
     "text": [
      "Welcome to my World\n"
     ]
    }
   ],
   "source": [
    "print(\"Welcome to my World\")"
   ]
  },
  {
   "cell_type": "markdown",
   "id": "d6c02c8f-7adb-48fd-8eac-a0b19236c63c",
   "metadata": {},
   "source": [
    "---"
   ]
  },
  {
   "cell_type": "markdown",
   "id": "65b39503-9254-4e69-8578-7b305a0c5edb",
   "metadata": {},
   "source": [
    "### Variables and Simple Data types\n",
    "- simple arithmetic operation\n"
   ]
  },
  {
   "cell_type": "code",
   "execution_count": 90,
   "id": "47668100-31e1-4bdc-afeb-94d8238bae17",
   "metadata": {},
   "outputs": [
    {
     "name": "stdout",
     "output_type": "stream",
     "text": [
      "30\n",
      "10\n",
      "200\n",
      "2.0\n",
      "0\n",
      "100000000000000000000\n"
     ]
    }
   ],
   "source": [
    "number_1 = 10\n",
    "number_2 = 20\n",
    "print(number_1 + number_2)\n",
    "print(number_2 - number_1)\n",
    "print(number_1 * number_2)\n",
    "print(number_2 / number_1)\n",
    "print(number_2 % number_1)\n",
    "print(number_1 ** number_2)"
   ]
  },
  {
   "cell_type": "markdown",
   "id": "0e315071-c295-466b-a16c-315a546ebaac",
   "metadata": {},
   "source": [
    "## String \n",
    "A string is simply a series of characters. Anything inside quotes is considered\r\n",
    "a string i  Pytho. \n",
    "\n",
    "- \"This is a string.\"\r",
    "- \n",
    "'This is also a string.'\n",
    "          n"
   ]
  },
  {
   "cell_type": "code",
   "execution_count": 39,
   "id": "e7ebc3ce-3ae4-4f5b-8dbc-c40cf2bf5bea",
   "metadata": {},
   "outputs": [
    {
     "name": "stdout",
     "output_type": "stream",
     "text": [
      "Ada lovelace\n"
     ]
    }
   ],
   "source": [
    "name = \"Ada lovelace\"\n",
    "print(name)"
   ]
  },
  {
   "cell_type": "markdown",
   "id": "1f510806-c40a-45b0-998b-3119aefe81a3",
   "metadata": {},
   "source": [
    "### Let's use some string method"
   ]
  },
  {
   "cell_type": "code",
   "execution_count": 42,
   "id": "30bb243f-39e5-4ceb-b5f3-8c780267dace",
   "metadata": {},
   "outputs": [
    {
     "name": "stdout",
     "output_type": "stream",
     "text": [
      "Day One\n"
     ]
    }
   ],
   "source": [
    "text = \"day one\"\n",
    "print(text.title())"
   ]
  },
  {
   "cell_type": "code",
   "execution_count": 44,
   "id": "d3b65efd-f5bc-4100-8abd-415e1d0544fa",
   "metadata": {},
   "outputs": [
    {
     "name": "stdout",
     "output_type": "stream",
     "text": [
      "BANGLADESH\n",
      "bangladesh\n"
     ]
    }
   ],
   "source": [
    "text = \"BAngladesh\"\n",
    "print(text.upper())\n",
    "print(text.lower())"
   ]
  },
  {
   "cell_type": "markdown",
   "id": "cf1890cc-bb18-4bd1-b025-2a1c05341a0a",
   "metadata": {},
   "source": [
    "### Concatening Strings"
   ]
  },
  {
   "cell_type": "code",
   "execution_count": 53,
   "id": "912afc79-35db-453d-a29f-a452392fda80",
   "metadata": {},
   "outputs": [
    {
     "name": "stdout",
     "output_type": "stream",
     "text": [
      "ADA LOVELACE\n"
     ]
    }
   ],
   "source": [
    "first_name = \"Ada\"\n",
    "last_name = \"Lovelace\"\n",
    "full_name = first_name + \" \" + last_name\n",
    "print(full_name.upper())"
   ]
  },
  {
   "cell_type": "markdown",
   "id": "44190423-1c29-4bab-9b4c-eb4417c27476",
   "metadata": {},
   "source": [
    "### Adding Whitespace to Strings with Tabs or Newlines"
   ]
  },
  {
   "cell_type": "code",
   "execution_count": 62,
   "id": "9119e95e-07ae-4086-adb8-2ac18e9f61f2",
   "metadata": {},
   "outputs": [
    {
     "name": "stdout",
     "output_type": "stream",
     "text": [
      "\tPython\n",
      "\tLanguages : \n",
      "\t Python \n",
      "\t Javascript \n",
      "\t C++\n"
     ]
    }
   ],
   "source": [
    "print(\"\\tPython\")\n",
    "print(\"\\tLanguages : \\n\\t Python \\n\\t Javascript \\n\\t C++\")"
   ]
  },
  {
   "cell_type": "markdown",
   "id": "276d3e6a-ee66-4105-a016-d7a6bacee803",
   "metadata": {},
   "source": [
    "#### to remove extra whitespace\n"
   ]
  },
  {
   "cell_type": "code",
   "execution_count": 82,
   "id": "45e90501-4348-48b7-ae01-804361fc4657",
   "metadata": {},
   "outputs": [
    {
     "data": {
      "text/plain": [
       "'python  '"
      ]
     },
     "execution_count": 82,
     "metadata": {},
     "output_type": "execute_result"
    }
   ],
   "source": [
    "language = '  python  '\n",
    "language.lstrip()"
   ]
  },
  {
   "cell_type": "code",
   "execution_count": 84,
   "id": "00c5bda2-88d5-463a-8411-c0071020e0b9",
   "metadata": {},
   "outputs": [
    {
     "data": {
      "text/plain": [
       "'  python'"
      ]
     },
     "execution_count": 84,
     "metadata": {},
     "output_type": "execute_result"
    }
   ],
   "source": [
    "language.rstrip()"
   ]
  },
  {
   "cell_type": "code",
   "execution_count": 86,
   "id": "2228a10c-ff2e-498a-a1df-8a98bf97fd1c",
   "metadata": {},
   "outputs": [
    {
     "data": {
      "text/plain": [
       "'python'"
      ]
     },
     "execution_count": 86,
     "metadata": {},
     "output_type": "execute_result"
    }
   ],
   "source": [
    "language.strip()"
   ]
  },
  {
   "cell_type": "code",
   "execution_count": 94,
   "id": "66cbd671-76f1-4b7e-a41e-d36f63dd393f",
   "metadata": {},
   "outputs": [
    {
     "name": "stdout",
     "output_type": "stream",
     "text": [
      "Happy 23rd Birthday !\n"
     ]
    }
   ],
   "source": [
    "age = 23 \n",
    "text = \"Happy \" + str(age) + \"rd Birthday !\"\n",
    "print(text)"
   ]
  },
  {
   "cell_type": "markdown",
   "id": "7f99969b-3e7d-4855-8312-d1c9f4d58564",
   "metadata": {},
   "source": [
    "#### how to do comment in Python ?"
   ]
  },
  {
   "cell_type": "code",
   "execution_count": 101,
   "id": "267a0ef2-e135-48ed-b10b-2b579121f65f",
   "metadata": {},
   "outputs": [
    {
     "name": "stdout",
     "output_type": "stream",
     "text": [
      "Hello to Everyone\n"
     ]
    }
   ],
   "source": [
    "# Say Hello to Everyone\n",
    "print(\"Hello to Everyone\")"
   ]
  },
  {
   "cell_type": "markdown",
   "id": "981d32c4-5e69-49dc-9555-2101eff0ffcd",
   "metadata": {},
   "source": [
    "## The Zen of Python"
   ]
  },
  {
   "cell_type": "code",
   "execution_count": 103,
   "id": "844935c9-3908-4d0c-8a25-32b002639398",
   "metadata": {},
   "outputs": [
    {
     "name": "stdout",
     "output_type": "stream",
     "text": [
      "The Zen of Python, by Tim Peters\n",
      "\n",
      "Beautiful is better than ugly.\n",
      "Explicit is better than implicit.\n",
      "Simple is better than complex.\n",
      "Complex is better than complicated.\n",
      "Flat is better than nested.\n",
      "Sparse is better than dense.\n",
      "Readability counts.\n",
      "Special cases aren't special enough to break the rules.\n",
      "Although practicality beats purity.\n",
      "Errors should never pass silently.\n",
      "Unless explicitly silenced.\n",
      "In the face of ambiguity, refuse the temptation to guess.\n",
      "There should be one-- and preferably only one --obvious way to do it.\n",
      "Although that way may not be obvious at first unless you're Dutch.\n",
      "Now is better than never.\n",
      "Although never is often better than *right* now.\n",
      "If the implementation is hard to explain, it's a bad idea.\n",
      "If the implementation is easy to explain, it may be a good idea.\n",
      "Namespaces are one honking great idea -- let's do more of those!\n"
     ]
    }
   ],
   "source": [
    "import this"
   ]
  },
  {
   "cell_type": "markdown",
   "id": "431f4c2e-dcfe-42d2-bfae-61e0993c9ffa",
   "metadata": {},
   "source": [
    "# **List in Pyrhon**"
   ]
  },
  {
   "cell_type": "code",
   "execution_count": 113,
   "id": "02acb837-5698-45a9-b7c8-18f91920c74d",
   "metadata": {},
   "outputs": [
    {
     "name": "stdout",
     "output_type": "stream",
     "text": [
      "['C', 'C++', 'Java', 'Python']\n"
     ]
    }
   ],
   "source": [
    "languages = ['C', 'C++', 'Java', 'Python']\n",
    "print(languages)"
   ]
  },
  {
   "cell_type": "code",
   "execution_count": 117,
   "id": "4a1614f5-2544-4b1c-9a1b-b5d7395918c7",
   "metadata": {},
   "outputs": [
    {
     "name": "stdout",
     "output_type": "stream",
     "text": [
      "Python\n"
     ]
    }
   ],
   "source": [
    "print(languages[3])"
   ]
  },
  {
   "cell_type": "code",
   "execution_count": 123,
   "id": "256bb717-4473-4999-a33b-5e8d57864af4",
   "metadata": {},
   "outputs": [
    {
     "name": "stdout",
     "output_type": "stream",
     "text": [
      "PYTHON\n"
     ]
    }
   ],
   "source": [
    "print(languages[3].upper())"
   ]
  },
  {
   "cell_type": "code",
   "execution_count": 127,
   "id": "76eaa402-85df-41ee-8e71-1c19a97e9491",
   "metadata": {},
   "outputs": [
    {
     "name": "stdout",
     "output_type": "stream",
     "text": [
      "Python\n",
      "Java\n"
     ]
    }
   ],
   "source": [
    "print(languages[-1])\n",
    "print(languages[-2])"
   ]
  },
  {
   "cell_type": "markdown",
   "id": "e19ba011-9f40-4db8-bd39-4e7f085620a6",
   "metadata": {},
   "source": [
    "## Changing , Adding, Removing Elements"
   ]
  },
  {
   "cell_type": "code",
   "execution_count": 132,
   "id": "6a7612f1-e4a9-4a65-ad75-c8eaf2472461",
   "metadata": {},
   "outputs": [
    {
     "name": "stdout",
     "output_type": "stream",
     "text": [
      "['honda', 'yamaha', 'suzuki']\n"
     ]
    }
   ],
   "source": [
    "motorcycles = ['honda', 'yamaha', 'suzuki']\n",
    "print(motorcycles)"
   ]
  },
  {
   "cell_type": "code",
   "execution_count": 136,
   "id": "bc2b6d24-1254-4bba-ac5d-fd7bf94e3ce2",
   "metadata": {},
   "outputs": [
    {
     "name": "stdout",
     "output_type": "stream",
     "text": [
      "['ducati', 'yamaha', 'suzuki']\n"
     ]
    }
   ],
   "source": [
    "motorcycles[0] = 'ducati'\n",
    "print(motorcycles)"
   ]
  },
  {
   "cell_type": "code",
   "execution_count": 142,
   "id": "c23ddf95-55a7-4453-a101-626b288d0711",
   "metadata": {},
   "outputs": [
    {
     "name": "stdout",
     "output_type": "stream",
     "text": [
      "['honda', 'yamaha', 'suzuki', 'ducati']\n"
     ]
    }
   ],
   "source": [
    "motorcycles = ['honda', 'yamaha', 'suzuki']\n",
    "motorcycles.append('ducati')\n",
    "print(motorcycles)"
   ]
  },
  {
   "cell_type": "markdown",
   "id": "4285ff3c-efd6-4b08-8ba4-bfb5adef3d24",
   "metadata": {},
   "source": [
    "### or we can initial like this"
   ]
  },
  {
   "cell_type": "code",
   "execution_count": 145,
   "id": "6beef193-0092-4b9b-957a-90760f1e1407",
   "metadata": {},
   "outputs": [
    {
     "name": "stdout",
     "output_type": "stream",
     "text": [
      "['honda', 'yamaha', 'suzuki']\n"
     ]
    }
   ],
   "source": [
    "motorcycle = []\n",
    "motorcycle.append('honda')\n",
    "motorcycle.append('yamaha')\n",
    "motorcycle.append('suzuki')\n",
    "\n",
    "print(motorcycle)"
   ]
  },
  {
   "cell_type": "markdown",
   "id": "3d131c6d-9c31-4fcb-b9ac-c4962ef093de",
   "metadata": {},
   "source": [
    "## Deleting elements\n"
   ]
  },
  {
   "cell_type": "code",
   "execution_count": 148,
   "id": "14640e1f-7fe6-4d70-8267-6ddf0fcd2887",
   "metadata": {},
   "outputs": [
    {
     "name": "stdout",
     "output_type": "stream",
     "text": [
      "['yamaha', 'suzuki']\n"
     ]
    }
   ],
   "source": [
    "del motorcycle[0]\n",
    "print(motorcycle)"
   ]
  },
  {
   "cell_type": "markdown",
   "id": "137ca08a-fd23-4118-8589-aed237ecdd9d",
   "metadata": {},
   "source": [
    "## Removing an item using pop() Method"
   ]
  },
  {
   "cell_type": "code",
   "execution_count": 155,
   "id": "ae945e2a-4e84-4fab-b737-26e933cc9ed8",
   "metadata": {},
   "outputs": [
    {
     "name": "stdout",
     "output_type": "stream",
     "text": [
      "['honda', 'yamaha']\n",
      "suzuki\n"
     ]
    }
   ],
   "source": [
    "motorcycle = ['honda', 'yamaha', 'suzuki']\n",
    "popped_motorcycle = motorcycle.pop()\n",
    "print(motorcycle)\n",
    "print(popped_motorcycle)"
   ]
  },
  {
   "cell_type": "code",
   "execution_count": 157,
   "id": "cb3a4188-8f8c-4176-a094-9e6fca48e581",
   "metadata": {},
   "outputs": [
    {
     "name": "stdout",
     "output_type": "stream",
     "text": [
      "The last motorcycle i owned was a Yamaha.\n"
     ]
    }
   ],
   "source": [
    "last_owned = motorcycle.pop()\n",
    "print(\"The last motorcycle i owned was a \" + last_owned.title() + \".\")"
   ]
  },
  {
   "cell_type": "markdown",
   "id": "e3a480f7-fdff-4b4a-b65e-54c1908a7fd1",
   "metadata": {},
   "source": [
    "## we can also pop() method using index"
   ]
  },
  {
   "cell_type": "code",
   "execution_count": 160,
   "id": "69c2d376-93b5-42db-9be5-7db08c63d078",
   "metadata": {},
   "outputs": [
    {
     "name": "stdout",
     "output_type": "stream",
     "text": [
      "My favourite bike name is Honda.\n"
     ]
    }
   ],
   "source": [
    "motorcycle = ['honda', 'yamaha', 'suzuki']\n",
    "last = motorcycle.pop(0)\n",
    "print(\"My favourite bike name is \" + last.title() + \".\" )"
   ]
  },
  {
   "cell_type": "markdown",
   "id": "6283ec22-f7ab-458c-8844-4fbdc01182dd",
   "metadata": {},
   "source": [
    "## Removing an item by Value\n",
    "\n",
    "- The remove() method deletes only the first occurrence of the value you specify\n",
    "-  we can remove multiple occurence using loop "
   ]
  },
  {
   "cell_type": "code",
   "execution_count": 163,
   "id": "c4a9f2da-c3fc-4d32-9709-15c29c69bcff",
   "metadata": {},
   "outputs": [
    {
     "name": "stdout",
     "output_type": "stream",
     "text": [
      "['honda', 'yamaha']\n"
     ]
    }
   ],
   "source": [
    "motorcycles.remove(\"suzuki\")\n",
    "print(motorcycles)"
   ]
  },
  {
   "cell_type": "code",
   "execution_count": 173,
   "id": "021c8866-11da-432f-a769-c1a31fd47b35",
   "metadata": {},
   "outputs": [
    {
     "name": "stdout",
     "output_type": "stream",
     "text": [
      "['BMW', 'Audi', 'Porsche', 'McLaren']\n"
     ]
    }
   ],
   "source": [
    "car = ['Lambo', 'BMW', 'Audi', 'Porsche', 'McLaren']\n",
    "word = 'Lambo'\n",
    "car.remove(word)\n",
    "print(car)"
   ]
  },
  {
   "cell_type": "code",
   "execution_count": 178,
   "id": "0187a47f-8ace-4237-b4a1-94646456157f",
   "metadata": {},
   "outputs": [
    {
     "name": "stdout",
     "output_type": "stream",
     "text": [
      "['BMW', 'Audi', 'Porsche', 'McLaren']\n"
     ]
    }
   ],
   "source": [
    "car = ['Lambo', 'BMW', 'Lambo', 'Audi', 'Lambo', 'Porsche', 'McLaren']\n",
    "word = 'Lambo'\n",
    "for i in car:\n",
    "   if(i == 'Lambo'):\n",
    "       car.remove(word)\n",
    "\n",
    "print(car)"
   ]
  },
  {
   "cell_type": "markdown",
   "id": "8c0dc126-8e6f-4b0e-8182-e8a33819c339",
   "metadata": {},
   "source": [
    "## using insert() method"
   ]
  },
  {
   "cell_type": "code",
   "execution_count": 183,
   "id": "b4eb7ade-df68-4448-9af0-32a718718ae5",
   "metadata": {},
   "outputs": [
    {
     "name": "stdout",
     "output_type": "stream",
     "text": [
      "['BMW', 'Audi', 'pagani', 'Porsche', 'McLaren']\n"
     ]
    }
   ],
   "source": [
    "car.insert(2, 'pagani')\n",
    "print(car)"
   ]
  },
  {
   "cell_type": "code",
   "execution_count": 185,
   "id": "05de6354-8d97-4230-8870-16092770a7ca",
   "metadata": {},
   "outputs": [
    {
     "name": "stdout",
     "output_type": "stream",
     "text": [
      "['BMW', 'Audi', 'pagani', 'McLaren']\n"
     ]
    }
   ],
   "source": [
    "car.pop(3)\n",
    "print(car)"
   ]
  },
  {
   "cell_type": "markdown",
   "id": "eaaa8f87-1874-4e88-9743-3536a2f01f05",
   "metadata": {},
   "source": [
    "## Organizing List"
   ]
  },
  {
   "cell_type": "code",
   "execution_count": 188,
   "id": "aafdbb3f-ea79-4faa-8f3a-a10b41fc5ad5",
   "metadata": {},
   "outputs": [
    {
     "name": "stdout",
     "output_type": "stream",
     "text": [
      "['Audi', 'BMW', 'Lambo', 'McLaren', 'Pagani', 'Porsche']\n"
     ]
    }
   ],
   "source": [
    "car = ['Lambo', 'BMW', 'Audi', 'Porsche', 'McLaren', 'Pagani']\n",
    "car.sort()\n",
    "print(car)"
   ]
  },
  {
   "cell_type": "code",
   "execution_count": 190,
   "id": "52c61f0f-fe51-447a-95c7-6c761d8a62aa",
   "metadata": {},
   "outputs": [
    {
     "name": "stdout",
     "output_type": "stream",
     "text": [
      "['Porsche', 'Pagani', 'McLaren', 'Lambo', 'BMW', 'Audi']\n"
     ]
    }
   ],
   "source": [
    "car.sort(reverse = True)\n",
    "print(car)"
   ]
  },
  {
   "cell_type": "markdown",
   "id": "5240e8a0-40da-49bf-b4d4-d25ac101148a",
   "metadata": {},
   "source": [
    "### sorted() method \n",
    "- The sorted() function lets you display your list\r\n",
    "in a particular order but doesn’t affect the actual order of the list."
   ]
  },
  {
   "cell_type": "code",
   "execution_count": 196,
   "id": "2fbc6ccb-cef8-4602-a36f-6a7182c0af7e",
   "metadata": {},
   "outputs": [
    {
     "name": "stdout",
     "output_type": "stream",
     "text": [
      "Here is the orginal list:\n",
      "['Lambo', 'BMW', 'Audi', 'Porsche', 'McLaren', 'Pagani']\n",
      "\n",
      "Here is the sorted list:\n",
      "['Audi', 'BMW', 'Lambo', 'McLaren', 'Pagani', 'Porsche']\n",
      "\n",
      "Here is the orginal list again:\n",
      "['Lambo', 'BMW', 'Audi', 'Porsche', 'McLaren', 'Pagani']\n"
     ]
    }
   ],
   "source": [
    "car = ['Lambo', 'BMW', 'Audi', 'Porsche', 'McLaren', 'Pagani']\n",
    "print(\"Here is the orginal list:\")\n",
    "print(car)\n",
    "\n",
    "print(\"\\nHere is the sorted list:\")\n",
    "print(sorted(car))\n",
    "\n",
    "print(\"\\nHere is the orginal list again:\")\n",
    "print(car)"
   ]
  },
  {
   "cell_type": "markdown",
   "id": "3d3d749a-1faf-43f1-b5f0-241f899b0821",
   "metadata": {},
   "source": [
    "## Printing a list in Reverse Order"
   ]
  },
  {
   "cell_type": "code",
   "execution_count": 199,
   "id": "430db58e-a990-4d46-b84a-1669304bfd23",
   "metadata": {},
   "outputs": [
    {
     "name": "stdout",
     "output_type": "stream",
     "text": [
      "['Pagani', 'McLaren', 'Porsche', 'Audi', 'BMW', 'Lambo']\n"
     ]
    }
   ],
   "source": [
    "car.reverse()\n",
    "print(car)"
   ]
  },
  {
   "cell_type": "markdown",
   "id": "d9e89ac7-2cc6-4c64-bb41-3ed9466b67df",
   "metadata": {},
   "source": [
    "## Finding the Length of a List"
   ]
  },
  {
   "cell_type": "code",
   "execution_count": 202,
   "id": "362b5203-9710-4b26-81d7-c757e67a31d7",
   "metadata": {},
   "outputs": [
    {
     "data": {
      "text/plain": [
       "6"
      ]
     },
     "execution_count": 202,
     "metadata": {},
     "output_type": "execute_result"
    }
   ],
   "source": [
    "len(car)"
   ]
  },
  {
   "cell_type": "code",
   "execution_count": 217,
   "id": "c1f48cb1-a6ca-4ce6-9ab9-59c1be86cd9f",
   "metadata": {},
   "outputs": [
    {
     "name": "stdout",
     "output_type": "stream",
     "text": [
      "['Finland', 'France', 'Japan', 'Saudi Arab', 'Uk']\n",
      "['Uk', 'Saudi Arab', 'Japan', 'France', 'Finland']\n"
     ]
    }
   ],
   "source": [
    "travel = ['Saudi Arab', 'Finland', 'Japan', 'Uk', 'France']\n",
    "print(sorted(travel))\n",
    "print(sorted(travel, reverse = True))"
   ]
  },
  {
   "cell_type": "code",
   "execution_count": 231,
   "id": "a03c84b9-462b-4dcb-b6ac-639c8c20bcd0",
   "metadata": {},
   "outputs": [
    {
     "name": "stdout",
     "output_type": "stream",
     "text": [
      "['Finland', 'France', 'Japan', 'Saudi Arab', 'Uk']\n"
     ]
    }
   ],
   "source": [
    "travel.sort()\n",
    "print(travel)"
   ]
  },
  {
   "cell_type": "code",
   "execution_count": 235,
   "id": "d0f91b59-b569-4cee-bebc-31a0a96c7ef8",
   "metadata": {},
   "outputs": [
    {
     "name": "stdout",
     "output_type": "stream",
     "text": [
      "['Uk', 'Saudi Arab', 'Japan', 'France', 'Finland']\n"
     ]
    }
   ],
   "source": [
    "travel.sort(reverse = True)\n",
    "print(travel)"
   ]
  }
 ],
 "metadata": {
  "kernelspec": {
   "display_name": "Python 3 (ipykernel)",
   "language": "python",
   "name": "python3"
  },
  "language_info": {
   "codemirror_mode": {
    "name": "ipython",
    "version": 3
   },
   "file_extension": ".py",
   "mimetype": "text/x-python",
   "name": "python",
   "nbconvert_exporter": "python",
   "pygments_lexer": "ipython3",
   "version": "3.12.4"
  }
 },
 "nbformat": 4,
 "nbformat_minor": 5
}
